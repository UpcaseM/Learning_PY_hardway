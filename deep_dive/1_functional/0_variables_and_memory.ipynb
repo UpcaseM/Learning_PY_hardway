{
 "cells": [
  {
   "cell_type": "markdown",
   "metadata": {},
   "source": [
    "# Variables are memory references"
   ]
  },
  {
   "cell_type": "code",
   "execution_count": 2,
   "metadata": {},
   "outputs": [
    {
     "name": "stdout",
     "output_type": "stream",
     "text": [
      "The address of v is 94679633331104, and the address of v2 is 94679633331104\n"
     ]
    }
   ],
   "source": [
    "v = 10\n",
    "v2 = 10\n",
    "print(f'The address of v is {id(v)}, and the address of v2 is {id(v2)}')"
   ]
  },
  {
   "cell_type": "markdown",
   "metadata": {},
   "source": [
    "The address of v and v2 are the same. The variable name v and v2 are pointing to the same memory address."
   ]
  },
  {
   "cell_type": "code",
   "execution_count": 4,
   "metadata": {},
   "outputs": [
    {
     "name": "stdout",
     "output_type": "stream",
     "text": [
      "The address of v is 140501070716496, and the address of v2 is 140501070716208\n"
     ]
    }
   ],
   "source": [
    "v = 257\n",
    "v2 = 257\n",
    "print(f'The address of v is {id(v)}, and the address of v2 is {id(v2)}')"
   ]
  },
  {
   "cell_type": "markdown",
   "metadata": {},
   "source": [
    "Now the address of v and v2 are different.That's because all integers from -5 to 256 inclusive are cached as global objects sharing the same address.\n",
    "\n",
    "Similarly, Python will automatically intern certain strings.\n",
    "\n",
    "In particular all the identifiers (variable names, function names, class names, etc) are interned (singleton objects created).\n",
    "\n",
    "Python will also intern string literals that look like identifiers."
   ]
  },
  {
   "cell_type": "code",
   "execution_count": 6,
   "metadata": {},
   "outputs": [
    {
     "name": "stdout",
     "output_type": "stream",
     "text": [
      "The address of v is 140501070575088, and the address of v2 is 140501070575088\n"
     ]
    }
   ],
   "source": [
    "v = 'hello'\n",
    "v2 = 'hello'\n",
    "print(f'The address of v is {id(v)}, and the address of v2 is {id(v2)}')"
   ]
  },
  {
   "cell_type": "markdown",
   "metadata": {},
   "source": [
    "Strings are immutable objects. v and v2 are pointing to the same memory address."
   ]
  },
  {
   "cell_type": "markdown",
   "metadata": {},
   "source": [
    "# Reference counting\n",
    "\n",
    "Count the number of reference for a memory address."
   ]
  },
  {
   "cell_type": "code",
   "execution_count": 8,
   "metadata": {},
   "outputs": [],
   "source": [
    "import ctypes\n",
    "\n",
    "def ref_count(address):\n",
    "    return ctypes.c_long.from_address(address).value"
   ]
  },
  {
   "cell_type": "code",
   "execution_count": 18,
   "metadata": {},
   "outputs": [
    {
     "name": "stdout",
     "output_type": "stream",
     "text": [
      "The reference count is 1\n",
      "The reference count is 2\n",
      "The reference count is 1\n"
     ]
    }
   ],
   "source": [
    "v = (2,4,'b')\n",
    "add = id(v)\n",
    "print(f'The reference count is {ref_count(add)}')\n",
    "v2 = v\n",
    "print(f'The reference count is {ref_count(add)}')\n",
    "v2 = None\n",
    "print(f'The reference count is {ref_count(add)}')"
   ]
  },
  {
   "cell_type": "markdown",
   "metadata": {},
   "source": [
    "We see that when we create a new v2, the reference count became 2, and the reference count became 1 when we assign the v2 to None."
   ]
  },
  {
   "cell_type": "markdown",
   "metadata": {},
   "source": [
    "# Garbage Collection\n",
    "\n",
    "We create a function that will search the objects in the GC for a specified id and tell us if the object was found or not:"
   ]
  },
  {
   "cell_type": "code",
   "execution_count": 26,
   "metadata": {},
   "outputs": [
    {
     "name": "stdout",
     "output_type": "stream",
     "text": [
      "Object exists\n",
      "Not found\n"
     ]
    }
   ],
   "source": [
    "import gc\n",
    "def object_by_id(object_id):\n",
    "    for obj in gc.get_objects():\n",
    "        if id(obj) == object_id:\n",
    "            return \"Object exists\"\n",
    "    return \"Not found\"\n",
    "v = (2,4,'b')\n",
    "add = id(v)\n",
    "print(object_by_id(add))\n",
    "v = None\n",
    "print(object_by_id(add))"
   ]
  },
  {
   "cell_type": "markdown",
   "metadata": {},
   "source": [
    "The Garbage Collection will run automatically to check if all objects have their reference, if not, the object will be deleted. This mechanism will prevent from issues caused by [circular reference](http://engineering.hearsaysocial.com/2013/06/16/circular-references-in-python/)"
   ]
  },
  {
   "cell_type": "markdown",
   "metadata": {},
   "source": [
    "# Dynamic and static typing\n",
    "\n",
    "Python is dynamically typed.\n",
    "\n",
    "This means that the type of a variable is simply the type of the object the variable name points to (references). The variable itself has no associated type."
   ]
  },
  {
   "cell_type": "code",
   "execution_count": 29,
   "metadata": {},
   "outputs": [
    {
     "name": "stdout",
     "output_type": "stream",
     "text": [
      "<class 'str'>\n",
      "<class 'int'>\n",
      "<class 'function'>\n"
     ]
    }
   ],
   "source": [
    "# Unlike static typing language, such as VB, Java.\n",
    "# We don't need to declare a vaiable before use, and different\n",
    "# types of object can be assign to the same reference.\n",
    "\n",
    "a = 'apple'\n",
    "print(type(a))\n",
    "a = 10\n",
    "print(type(a))\n",
    "a = lambda x: x*2\n",
    "print(type(a))"
   ]
  },
  {
   "cell_type": "markdown",
   "metadata": {},
   "source": [
    "# Variable re-assignment\n",
    "\n",
    "Notice the memory address of a is different every time."
   ]
  },
  {
   "cell_type": "code",
   "execution_count": 31,
   "metadata": {},
   "outputs": [
    {
     "name": "stdout",
     "output_type": "stream",
     "text": [
      "94679633331104\n",
      "94679633331136\n"
     ]
    }
   ],
   "source": [
    "a = 10\n",
    "print(id(a))\n",
    "a += 1\n",
    "print(id(a))"
   ]
  },
  {
   "cell_type": "markdown",
   "metadata": {},
   "source": [
    "In python, instead of modify the object in the memory address, it will assign the object to a new memory address."
   ]
  },
  {
   "cell_type": "markdown",
   "metadata": {},
   "source": [
    "# Object Mutability\n",
    "\n",
    "Certain Python built-in object types (aka data types) are mutable.\n",
    "\n",
    "That is, the internal contents (state) of the object in memory can be modified."
   ]
  },
  {
   "cell_type": "code",
   "execution_count": 33,
   "metadata": {},
   "outputs": [
    {
     "name": "stdout",
     "output_type": "stream",
     "text": [
      "140501070046944\n",
      "140501070046944\n",
      "140501070046944\n"
     ]
    }
   ],
   "source": [
    "# List\n",
    "alist = [1, 2, 3]\n",
    "print(id(alist))\n",
    "alist[0] = 4\n",
    "print(id(alist))\n",
    "alist.append(5)\n",
    "print(id(alist))"
   ]
  },
  {
   "cell_type": "markdown",
   "metadata": {},
   "source": [
    "We can see that the memory address has not changed."
   ]
  },
  {
   "cell_type": "code",
   "execution_count": 35,
   "metadata": {},
   "outputs": [
    {
     "name": "stdout",
     "output_type": "stream",
     "text": [
      "140501070087904\n",
      "140501070087904\n"
     ]
    }
   ],
   "source": [
    "# Similarly with dictionary objects that are also mutable types.\n",
    "my_dict = dict(key1='value 1')\n",
    "print(id(my_dict))\n",
    "my_dict['key2'] = 'value 2'\n",
    "print(id(my_dict))"
   ]
  },
  {
   "cell_type": "markdown",
   "metadata": {},
   "source": [
    "# Function arguments and mutability"
   ]
  },
  {
   "cell_type": "code",
   "execution_count": 39,
   "metadata": {},
   "outputs": [
    {
     "name": "stdout",
     "output_type": "stream",
     "text": [
      "initial s # = 0x7fc8f45f31b0\n",
      "s after change # = 0x7fc8f4582eb0\n",
      "my_var # = 0x7fc8f45f31b0\n"
     ]
    }
   ],
   "source": [
    "def process(s):\n",
    "    print('initial s # = {0}'.format(hex(id(s))))\n",
    "    s = s + ' world'\n",
    "    print('s after change # = {0}'.format(hex(id(s))))\n",
    "\n",
    "my_var = 'hello'\n",
    "process(my_var)\n",
    "print('my_var # = {0}'.format(hex(id(my_var))))"
   ]
  },
  {
   "cell_type": "markdown",
   "metadata": {},
   "source": [
    "Note that when s is received, it is referencing the same object as my_var.\n",
    "\n",
    "After we \"modify\" s, s is pointing to a new memory address:"
   ]
  },
  {
   "cell_type": "markdown",
   "metadata": {},
   "source": [
    "# Shared References and Mutability"
   ]
  },
  {
   "cell_type": "code",
   "execution_count": 40,
   "metadata": {},
   "outputs": [
    {
     "name": "stdout",
     "output_type": "stream",
     "text": [
      "0x561c51e983a0\n",
      "0x561c51e983a0\n"
     ]
    }
   ],
   "source": [
    "a = 10\n",
    "b = 10\n",
    "print(hex(id(a)))\n",
    "print(hex(id(b)))"
   ]
  },
  {
   "cell_type": "markdown",
   "metadata": {},
   "source": [
    "The memory address for a and b are the same. It's safe for Python to do because integer objects are **immutable**.\n",
    "\n",
    "However, for mutable objects, Python's memory manager does not do this."
   ]
  },
  {
   "cell_type": "code",
   "execution_count": 44,
   "metadata": {},
   "outputs": [
    {
     "name": "stdout",
     "output_type": "stream",
     "text": [
      "0x7fc8f46426e0\n",
      "0x7fc8f46b6640\n"
     ]
    }
   ],
   "source": [
    "# List is mutable.\n",
    "lst_1 = [1, 2]\n",
    "lst_2 = [1, 2]\n",
    "print(hex(id(lst_1)))\n",
    "print(hex(id(lst_2)))"
   ]
  },
  {
   "cell_type": "markdown",
   "metadata": {},
   "source": [
    "Notice the address is different."
   ]
  },
  {
   "cell_type": "markdown",
   "metadata": {},
   "source": [
    "# Everything is an object"
   ]
  },
  {
   "cell_type": "code",
   "execution_count": 55,
   "metadata": {},
   "outputs": [
    {
     "name": "stdout",
     "output_type": "stream",
     "text": [
      "<class 'int'>\n",
      "<class 'str'>\n"
     ]
    }
   ],
   "source": [
    "# Integer is an object\n",
    "a = 10\n",
    "print(type(a))\n",
    "\n",
    "# Function is an object\n",
    "def test():\n",
    "    b = 'a'\n",
    "    return b\n",
    "c = test()\n",
    "print(type(c))"
   ]
  }
 ],
 "metadata": {
  "kernelspec": {
   "display_name": "Python 3",
   "language": "python",
   "name": "python3"
  },
  "language_info": {
   "codemirror_mode": {
    "name": "ipython",
    "version": 3
   },
   "file_extension": ".py",
   "mimetype": "text/x-python",
   "name": "python",
   "nbconvert_exporter": "python",
   "pygments_lexer": "ipython3",
   "version": "3.7.6"
  },
  "toc": {
   "base_numbering": 1,
   "nav_menu": {},
   "number_sections": true,
   "sideBar": true,
   "skip_h1_title": false,
   "title_cell": "Table of Contents",
   "title_sidebar": "Contents",
   "toc_cell": false,
   "toc_position": {},
   "toc_section_display": true,
   "toc_window_display": false
  }
 },
 "nbformat": 4,
 "nbformat_minor": 4
}
