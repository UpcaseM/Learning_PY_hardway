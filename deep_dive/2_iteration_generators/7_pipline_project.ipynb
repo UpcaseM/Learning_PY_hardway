{
 "cells": [
  {
   "cell_type": "markdown",
   "metadata": {},
   "source": [
    "# Pipline Project\n",
    "\n",
    "The goal is to write a pipeline that will push data from the source file, `cars.csv`, and push it through some filters and print out the results."
   ]
  },
  {
   "cell_type": "code",
   "execution_count": 7,
   "metadata": {},
   "outputs": [],
   "source": [
    "import csv\n",
    "from contextlib import contextmanager\n",
    "\n",
    "file = '/mnt/data-ubuntu/Projects/Learning_PY_hardway/data/deep_dive/cars.csv' \n",
    "\n",
    "idx_car = 0\n",
    "idx_mpg = 1\n",
    "idx_cylinders = 2\n",
    "idx_displacement = 3\n",
    "idx_horsepower = 4\n",
    "idx_weight = 5\n",
    "idx_acceleration = 6\n",
    "idx_model = 7\n",
    "idx_origin = 8\n",
    "\n",
    "converters = (str, float, int, float, float, float, float, int, str)"
   ]
  },
  {
   "cell_type": "code",
   "execution_count": 21,
   "metadata": {},
   "outputs": [],
   "source": [
    "def data_reader(f_name):\n",
    "    \"\"\"\n",
    "    Read data from f_name.\n",
    "    \"\"\"\n",
    "    with open(f_name) as f:\n",
    "        dialect = csv.Sniffer().sniff(f.read(2000))\n",
    "        f.seek(0)\n",
    "        yield from csv.reader(f, dialect = dialect)\n",
    "\n",
    "def data_parser(f_name, converters):\n",
    "    \"\"\"\n",
    "    Change data type accordingly.\n",
    "    \"\"\"\n",
    "    data = data_reader(file)\n",
    "    next(data) # Skip the header.\n",
    "    for row in data:\n",
    "        row = [converter(e) for converter, e in zip(converters, row)]\n",
    "        yield row\n",
    "        \n",
    "def coroutine(fn):\n",
    "    \"\"\"\n",
    "    Coroutine decorator.\n",
    "    \"\"\"\n",
    "    def inner(*args, **kwargs):\n",
    "        g = fn(*args, **kwargs)\n",
    "        next(g)\n",
    "        return g\n",
    "    return inner\n",
    "\n",
    "@coroutine\n",
    "def data_filter(fn_filter, next_coroutine):\n",
    "    \"\"\"\n",
    "    Filter data based on fn_filter and send data to next_coroutine.\n",
    "    \"\"\"\n",
    "    while True:\n",
    "        data = yield\n",
    "        if fn_filter(data):\n",
    "            next_coroutine.send(data)\n",
    "\n",
    "@coroutine\n",
    "def printer():\n",
    "    \"\"\"\n",
    "    Print the results.\n",
    "    \"\"\"\n",
    "    while True:\n",
    "        data = yield\n",
    "        print(data)\n",
    "    \n",
    "@coroutine\n",
    "def pipline(*filters_words):\n",
    "    \"\"\"\n",
    "    The pipline to process the data.\n",
    "    \"\"\"\n",
    "    p = printer()\n",
    "    \n",
    "    for filters_word in filters_words:\n",
    "        p = data_filter(lambda d, v=filters_word: v in d[0], p)\n",
    "    \n",
    "    while True:\n",
    "        received = yield\n",
    "        p.send(received)"
   ]
  },
  {
   "cell_type": "code",
   "execution_count": 22,
   "metadata": {
    "scrolled": true
   },
   "outputs": [
    {
     "name": "stdout",
     "output_type": "stream",
     "text": [
      "['Toyota Corolla Mark ii', 24.0, 4, 113.0, 95.0, 2372.0, 15.0, 70, 'Japan']\n",
      "['Toyota Corolla Mark II (sw)', 23.0, 4, 120.0, 97.0, 2506.0, 14.5, 72, 'Japan']\n",
      "['Toyota Mark II', 20.0, 6, 156.0, 122.0, 2807.0, 13.5, 73, 'Japan']\n",
      "['Toyota Mark II', 19.0, 6, 156.0, 108.0, 2930.0, 15.5, 76, 'Japan']\n"
     ]
    }
   ],
   "source": [
    "data = data_parser(file, converters)\n",
    "p = pipline('Toyota', 'Mark')\n",
    "for row in data:\n",
    "    p.send(row)"
   ]
  }
 ],
 "metadata": {
  "kernelspec": {
   "display_name": "Python 3",
   "language": "python",
   "name": "python3"
  },
  "language_info": {
   "codemirror_mode": {
    "name": "ipython",
    "version": 3
   },
   "file_extension": ".py",
   "mimetype": "text/x-python",
   "name": "python",
   "nbconvert_exporter": "python",
   "pygments_lexer": "ipython3",
   "version": "3.7.6"
  },
  "toc": {
   "base_numbering": 1,
   "nav_menu": {},
   "number_sections": true,
   "sideBar": true,
   "skip_h1_title": false,
   "title_cell": "Table of Contents",
   "title_sidebar": "Contents",
   "toc_cell": false,
   "toc_position": {},
   "toc_section_display": true,
   "toc_window_display": false
  }
 },
 "nbformat": 4,
 "nbformat_minor": 4
}
