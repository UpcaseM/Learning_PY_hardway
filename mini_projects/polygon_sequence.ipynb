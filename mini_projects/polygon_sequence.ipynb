{
 "cells": [
  {
   "cell_type": "markdown",
   "metadata": {},
   "source": [
    "**Create a sequence type that will return a series of (regular convex) Polygon objects.**\n",
    "\n",
    "Each polygon will be uniquely defined by:\n",
    "* it is a regular convex polygon:\n",
    "    * edges (sides) are all of equal length\n",
    "    * angles between edges are all equal\n",
    "* the center of the polygon is `(0,0)`\n",
    "* the number of vertices (minimum `3`)\n",
    "* the distance from the center to any vertex should be `R` unit (this is sometimes described as the polygon having a *circumradius* of `R`)\n",
    "\n",
    "The sequence should be finite - so creating an instance of this sequence will require the passing in the number of polygons in the sequence to the initializer.\n",
    "\n",
    "The Polygon objects should be immutable, as should the sequence itself."
   ]
  },
  {
   "cell_type": "markdown",
   "metadata": {},
   "source": [
    "In addition, each Polygon should have the following properties:\n",
    "* number of vertices\n",
    "* number of edges (sides)\n",
    "* the edge length\n",
    "* the apothem (distance from center to mid-point of any edge)\n",
    "* surface area\n",
    "* perimeter\n",
    "* interior angle (angle between each edge) - in degrees\n",
    "* supports equality based on # edges and circumradius\n",
    "* supports ordering based on number of edges only\n",
    "\n",
    "The sequence object should also have the following properties:\n",
    "\n",
    "* should support fully-featured slicing and indexing (positive indices, negative indices, slicing, and extended slicing)\n",
    "* should support the `length()` function\n",
    "* should provide the polygon with the highest `area:perimeter` ratio"
   ]
  },
  {
   "cell_type": "code",
   "execution_count": 34,
   "metadata": {},
   "outputs": [],
   "source": [
    "# Create a Polygon class with the properties defined above. \n",
    "# The initializer for the class will need the number of vertices (or edges, same), \n",
    "# and the circumradius (`R`).\n",
    "import math\n",
    "\n",
    "class Polygon:\n",
    "    def __init__(self, n, R):\n",
    "        if n < 3:\n",
    "            raise ValueError('Polygon must have at least 3 vertices')\n",
    "        self._n = n\n",
    "        self._R = R\n",
    "        \n",
    "    def __repr__(self):\n",
    "        return f'Polygon(n={self._n}, R={self._R})'\n",
    "    \n",
    "    @property\n",
    "    def count_vertices(self):\n",
    "        return self._n\n",
    "    \n",
    "    @property\n",
    "    def count_edges(self):\n",
    "        return self._n\n",
    "    \n",
    "    @property\n",
    "    def circumradius(self):\n",
    "        return self._R\n",
    "    \n",
    "    @property\n",
    "    def interior_angle(self):\n",
    "        return (self._n - 2) * 180 / self._n\n",
    "\n",
    "    @property\n",
    "    def side_length(self):\n",
    "        return 2 * self._R * math.sin(math.pi / self._n)\n",
    "    \n",
    "    @property\n",
    "    def apothem(self):\n",
    "        return self._R * math.cos(math.pi / self._n)\n",
    "    \n",
    "    @property\n",
    "    def area(self):\n",
    "        return self._n / 2 * self.side_length * self.apothem\n",
    "    \n",
    "    @property\n",
    "    def perimeter(self):\n",
    "        return self._n * self.side_length\n",
    "    \n",
    "    def __eq__(self, other):\n",
    "        if isinstance(other, self.__class__):\n",
    "            return (self.count_edges == other.count_edges\n",
    "                   and self.circumradius == other.circumradius)\n",
    "        else:\n",
    "            raise TypeError('Not a Polygon!')\n",
    "    \n",
    "    def __gt__(self, other):\n",
    "        if isinstance(other, self.__class__):\n",
    "            return self.count_vertices > other.count_vertices\n",
    "        else:\n",
    "            raise TypeError('Not a Polygon!')"
   ]
  },
  {
   "cell_type": "code",
   "execution_count": 35,
   "metadata": {},
   "outputs": [
    {
     "name": "stdout",
     "output_type": "stream",
     "text": [
      "You passed the test!\n"
     ]
    }
   ],
   "source": [
    "def test_polygon():\n",
    "    abs_tol = 0.001\n",
    "    rel_tol = 0.001\n",
    "    \n",
    "    try:\n",
    "        p = Polygon(2, 10)\n",
    "        assert False, ('Creating a Polygon with 2 sides: '\n",
    "                       ' Exception expected, not received')\n",
    "    except ValueError:\n",
    "        pass\n",
    "                       \n",
    "    n = 3\n",
    "    R = 1\n",
    "    p = Polygon(n, R)\n",
    "    assert str(p) == 'Polygon(n=3, R=1)', f'actual: {str(p)}'\n",
    "    assert p.count_vertices == n, (f'actual: {p.count_vertices},'\n",
    "                                   f' expected: {n}')\n",
    "    assert p.count_edges == n, f'actual: {p.count_edges}, expected: {n}'\n",
    "    assert p.circumradius == R, f'actual: {p.circumradius}, expected: {n}'\n",
    "    assert p.interior_angle == 60, (f'actual: {p.interior_angle},'\n",
    "                                    ' expected: 60')\n",
    "    n = 4\n",
    "    R = 1\n",
    "    p = Polygon(n, R)\n",
    "    assert p.interior_angle == 90, (f'actual: {p.interior_angle}, '\n",
    "                                    ' expected: 90')\n",
    "    assert math.isclose(p.area, 2, \n",
    "                        rel_tol=abs_tol, \n",
    "                        abs_tol=abs_tol), (f'actual: {p.area},'\n",
    "                                           ' expected: 2.0')\n",
    "    \n",
    "    assert math.isclose(p.side_length, math.sqrt(2),\n",
    "                       rel_tol=rel_tol,\n",
    "                       abs_tol=abs_tol), (f'actual: {p.side_length},'\n",
    "                                          f' expected: {math.sqrt(2)}')\n",
    "    \n",
    "    assert math.isclose(p.perimeter, 4 * math.sqrt(2),\n",
    "                       rel_tol=rel_tol,\n",
    "                       abs_tol=abs_tol), (f'actual: {p.perimeter},'\n",
    "                                          f' expected: {4 * math.sqrt(2)}')\n",
    "    \n",
    "    assert math.isclose(p.apothem, 0.707,\n",
    "                       rel_tol=rel_tol,\n",
    "                       abs_tol=abs_tol), (f'actual: {p.perimeter},'\n",
    "                                          ' expected: 0.707')\n",
    "    p = Polygon(6, 2)\n",
    "    assert math.isclose(p.side_length, 2,\n",
    "                        rel_tol=rel_tol, abs_tol=abs_tol)\n",
    "    assert math.isclose(p.apothem, 1.73205,\n",
    "                        rel_tol=rel_tol, abs_tol=abs_tol)\n",
    "    assert math.isclose(p.area, 10.3923,\n",
    "                        rel_tol=rel_tol, abs_tol=abs_tol)\n",
    "    assert math.isclose(p.perimeter, 12,\n",
    "                        rel_tol=rel_tol, abs_tol=abs_tol)\n",
    "    assert math.isclose(p.interior_angle, 120,\n",
    "                        rel_tol=rel_tol, abs_tol=abs_tol)\n",
    "    \n",
    "    p = Polygon(12, 3)\n",
    "    assert math.isclose(p.side_length, 1.55291,\n",
    "                        rel_tol=rel_tol, abs_tol=abs_tol)\n",
    "    assert math.isclose(p.apothem, 2.89778,\n",
    "                        rel_tol=rel_tol, abs_tol=abs_tol)\n",
    "    assert math.isclose(p.area, 27,\n",
    "                        rel_tol=rel_tol, abs_tol=abs_tol)\n",
    "    assert math.isclose(p.perimeter, 18.635,\n",
    "                        rel_tol=rel_tol, abs_tol=abs_tol)\n",
    "    assert math.isclose(p.interior_angle, 150,\n",
    "                        rel_tol=rel_tol, abs_tol=abs_tol)\n",
    "    \n",
    "    p1 = Polygon(3, 10)\n",
    "    p2 = Polygon(10, 10)\n",
    "    p3 = Polygon(15, 10)\n",
    "    p4 = Polygon(15, 100)\n",
    "    p5 = Polygon(15, 100)\n",
    "    \n",
    "    assert p2 > p1\n",
    "    assert p2 < p3\n",
    "    assert p3 != p4\n",
    "    assert p1 != p4\n",
    "    assert p4 == p5\n",
    "    print('You passed the test!')\n",
    "\n",
    "test_polygon()"
   ]
  },
  {
   "cell_type": "code",
   "execution_count": 41,
   "metadata": {},
   "outputs": [],
   "source": [
    "# Create a finite sequence type that is a sequence of Polygons start with `3` vertices, \n",
    "# up to, and including some maximum value `m`\n",
    "# which will need to be passed to the initializer of the sequence type.\n",
    "\n",
    "class Polygons:\n",
    "    def __init__(self, m, r):\n",
    "        if m < 3:\n",
    "            raise ValueError('m must be greater than 3!')\n",
    "        self.m  = m\n",
    "        self.r = r\n",
    "        self.polygons = [Polygon(i, r) for i in range(3, m + 1)]\n",
    "        \n",
    "    def __len__(self):\n",
    "        return self.m -2\n",
    "        \n",
    "    def __repr__(self):\n",
    "        return f'Polygons(m={self.m}, r={self.r})'\n",
    "    \n",
    "    def __getitem__(self,s):\n",
    "        return self.polygons[s]\n",
    "    \n",
    "    @property\n",
    "    def max_ap_ratio(self):\n",
    "        sorted_p = sorted(self.polygons,\n",
    "                          key = lambda p: p.area/p.perimeter,\n",
    "                          reverse = True)\n",
    "        return sorted_p[0]"
   ]
  },
  {
   "cell_type": "code",
   "execution_count": 42,
   "metadata": {},
   "outputs": [],
   "source": [
    "seq_p = Polygons(10, 1)"
   ]
  },
  {
   "cell_type": "code",
   "execution_count": 43,
   "metadata": {},
   "outputs": [
    {
     "data": {
      "text/plain": [
       "8"
      ]
     },
     "execution_count": 43,
     "metadata": {},
     "output_type": "execute_result"
    }
   ],
   "source": [
    "len(seq_p)"
   ]
  },
  {
   "cell_type": "code",
   "execution_count": 44,
   "metadata": {},
   "outputs": [
    {
     "name": "stdout",
     "output_type": "stream",
     "text": [
      "Polygon(n=3, R=1)\n",
      "Polygon(n=4, R=1)\n",
      "Polygon(n=5, R=1)\n",
      "Polygon(n=6, R=1)\n",
      "Polygon(n=7, R=1)\n",
      "Polygon(n=8, R=1)\n",
      "Polygon(n=9, R=1)\n",
      "Polygon(n=10, R=1)\n"
     ]
    }
   ],
   "source": [
    "for p in seq_p:\n",
    "    print(p)"
   ]
  },
  {
   "cell_type": "code",
   "execution_count": 45,
   "metadata": {},
   "outputs": [
    {
     "data": {
      "text/plain": [
       "Polygon(n=10, R=1)"
      ]
     },
     "execution_count": 45,
     "metadata": {},
     "output_type": "execute_result"
    }
   ],
   "source": [
    "seq_p.max_ap_ratio"
   ]
  }
 ],
 "metadata": {
  "kernelspec": {
   "display_name": "Python 3",
   "language": "python",
   "name": "python3"
  },
  "language_info": {
   "codemirror_mode": {
    "name": "ipython",
    "version": 3
   },
   "file_extension": ".py",
   "mimetype": "text/x-python",
   "name": "python",
   "nbconvert_exporter": "python",
   "pygments_lexer": "ipython3",
   "version": "3.7.6"
  },
  "toc": {
   "base_numbering": 1,
   "nav_menu": {},
   "number_sections": true,
   "sideBar": true,
   "skip_h1_title": false,
   "title_cell": "Table of Contents",
   "title_sidebar": "Contents",
   "toc_cell": false,
   "toc_position": {},
   "toc_section_display": true,
   "toc_window_display": false
  }
 },
 "nbformat": 4,
 "nbformat_minor": 4
}
