{
 "cells": [
  {
   "cell_type": "markdown",
   "metadata": {},
   "source": [
    "Question: How many coin flips on average does it take to get n consecutive heads?"
   ]
  },
  {
   "cell_type": "code",
   "execution_count": 295,
   "metadata": {},
   "outputs": [],
   "source": [
    "import numpy as np\n",
    "\n",
    "class Coin_test:\n",
    "    \n",
    "    def __init__(self, epochs, n):\n",
    "        self.epochs = epochs\n",
    "        self.con_heads = n\n",
    "        self.history = []\n",
    "\n",
    "    def start_flipping(self):\n",
    "        for i in range(self.epochs):\n",
    "            # Init the number of tests to 0 for each epoch\n",
    "            total = 0\n",
    "            # Iterate until we get n consecutive heads.\n",
    "            while True:\n",
    "                # Init the number of head counts\n",
    "                num_heads = 0\n",
    "                total += 1\n",
    "                for j in range(self.con_heads):\n",
    "                    if np.random.rand() < 0.5:\n",
    "                        num_heads += 1\n",
    "                    else:\n",
    "                        break\n",
    "                if num_heads == self.con_heads:\n",
    "                    break\n",
    "            # Append the chance of getting n consecutive heads\n",
    "            self.history.append(total)\n",
    "        return self.history\n",
    "                    "
   ]
  },
  {
   "cell_type": "code",
   "execution_count": 305,
   "metadata": {
    "scrolled": true
   },
   "outputs": [
    {
     "name": "stdout",
     "output_type": "stream",
     "text": [
      "The number of flips to get 6 consecutive heads is 63.95 times on average, and the probability is 1.56%\n"
     ]
    }
   ],
   "source": [
    "num_heads = 6\n",
    "simulation = Coin_test(20000,num_heads)\n",
    "history = simulation.start_flipping()\n",
    "num_flips = np.mean(history)\n",
    "print('The number of flips to get {} consecutive heads is {:.2f} times on average, and the probability is {:.2%}'. \\\n",
    "       format(num_heads, num_flips, 1/num_flips))"
   ]
  }
 ],
 "metadata": {
  "kernelspec": {
   "display_name": "Python 3",
   "language": "python",
   "name": "python3"
  },
  "language_info": {
   "codemirror_mode": {
    "name": "ipython",
    "version": 3
   },
   "file_extension": ".py",
   "mimetype": "text/x-python",
   "name": "python",
   "nbconvert_exporter": "python",
   "pygments_lexer": "ipython3",
   "version": "3.7.3"
  },
  "toc": {
   "base_numbering": 1,
   "nav_menu": {},
   "number_sections": true,
   "sideBar": true,
   "skip_h1_title": false,
   "title_cell": "Table of Contents",
   "title_sidebar": "Contents",
   "toc_cell": false,
   "toc_position": {},
   "toc_section_display": true,
   "toc_window_display": false
  }
 },
 "nbformat": 4,
 "nbformat_minor": 2
}
