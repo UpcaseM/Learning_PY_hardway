{
 "cells": [
  {
   "cell_type": "markdown",
   "metadata": {},
   "source": [
    "# Coroutines"
   ]
  },
  {
   "cell_type": "code",
   "execution_count": 1,
   "metadata": {},
   "outputs": [],
   "source": [
    "from collections import deque\n",
    "def produce_elements(dq, n):\n",
    "    \"\"\"\n",
    "    Add elements to the queue.\n",
    "    \"\"\"\n",
    "    for i in range(n):\n",
    "        dq.appendleft(i)\n",
    "        if len(dq) == dq.maxlen:\n",
    "            print('Queue full - yielding control')\n",
    "            yield\n",
    "\n",
    "def consume_elements(dq):\n",
    "    \"\"\"\n",
    "    Consume elements from queue.\n",
    "    \"\"\"\n",
    "    while True:\n",
    "        while len(dq) > 0:\n",
    "            item = dq.pop()\n",
    "            print('Processing ', item)\n",
    "        print('Queue empty - yieling control')\n",
    "        yield\n",
    "\n",
    "def coordinator():\n",
    "    \"\"\"\n",
    "    Coordinator to coordinate the producer and the consumer.\n",
    "    \"\"\"\n",
    "    dq = deque(maxlen = 10)\n",
    "    producer = produce_elements(dq, 36)\n",
    "    consumer = consume_elements(dq)\n",
    "    while True:\n",
    "        try:\n",
    "            print('producing...')\n",
    "            next(producer)\n",
    "        except StopIteration:\n",
    "            break\n",
    "        finally:\n",
    "            print('Consuming...')\n",
    "            next(consumer)\n",
    "            "
   ]
  },
  {
   "cell_type": "code",
   "execution_count": 2,
   "metadata": {
    "scrolled": true
   },
   "outputs": [
    {
     "name": "stdout",
     "output_type": "stream",
     "text": [
      "producing...\n",
      "Queue full - yielding control\n",
      "Consuming...\n",
      "Processing  0\n",
      "Processing  1\n",
      "Processing  2\n",
      "Processing  3\n",
      "Processing  4\n",
      "Processing  5\n",
      "Processing  6\n",
      "Processing  7\n",
      "Processing  8\n",
      "Processing  9\n",
      "Queue empty - yieling control\n",
      "producing...\n",
      "Queue full - yielding control\n",
      "Consuming...\n",
      "Processing  10\n",
      "Processing  11\n",
      "Processing  12\n",
      "Processing  13\n",
      "Processing  14\n",
      "Processing  15\n",
      "Processing  16\n",
      "Processing  17\n",
      "Processing  18\n",
      "Processing  19\n",
      "Queue empty - yieling control\n",
      "producing...\n",
      "Queue full - yielding control\n",
      "Consuming...\n",
      "Processing  20\n",
      "Processing  21\n",
      "Processing  22\n",
      "Processing  23\n",
      "Processing  24\n",
      "Processing  25\n",
      "Processing  26\n",
      "Processing  27\n",
      "Processing  28\n",
      "Processing  29\n",
      "Queue empty - yieling control\n",
      "producing...\n",
      "Consuming...\n",
      "Processing  30\n",
      "Processing  31\n",
      "Processing  32\n",
      "Processing  33\n",
      "Processing  34\n",
      "Processing  35\n",
      "Queue empty - yieling control\n"
     ]
    }
   ],
   "source": [
    "coordinator()"
   ]
  },
  {
   "cell_type": "markdown",
   "metadata": {},
   "source": [
    "# Sending Data to  Generators"
   ]
  },
  {
   "cell_type": "code",
   "execution_count": 3,
   "metadata": {},
   "outputs": [],
   "source": [
    "def echo():\n",
    "    while True:\n",
    "        received = yield\n",
    "        print('You said:', received)"
   ]
  },
  {
   "cell_type": "code",
   "execution_count": 4,
   "metadata": {},
   "outputs": [],
   "source": [
    "# Create a generator\n",
    "g = echo()\n",
    "\n",
    "# yield when we are calling next.\n",
    "next(g)"
   ]
  },
  {
   "cell_type": "code",
   "execution_count": 5,
   "metadata": {},
   "outputs": [
    {
     "name": "stdout",
     "output_type": "stream",
     "text": [
      "You said: None\n"
     ]
    }
   ],
   "source": [
    "# The code continues to run and print 'You said: None'\n",
    "next(g)"
   ]
  },
  {
   "cell_type": "code",
   "execution_count": 6,
   "metadata": {},
   "outputs": [
    {
     "name": "stdout",
     "output_type": "stream",
     "text": [
      "You said: You are right!\n",
      "You said: Next one!\n"
     ]
    }
   ],
   "source": [
    "# We can send data to the generator, and the variable \n",
    "# received stores the string 'You are right!'.\n",
    "# Now the generator continued running until it hit a yield again.\n",
    "g.send('You are right!')\n",
    "g.send('Next one!')"
   ]
  },
  {
   "cell_type": "code",
   "execution_count": 7,
   "metadata": {},
   "outputs": [],
   "source": [
    "# An average example using coroutine.\n",
    "def averager():\n",
    "    total = 0\n",
    "    count = 0\n",
    "    running_avg = None\n",
    "    while True:\n",
    "        value = yield running_avg\n",
    "        total += value\n",
    "        count += 1\n",
    "        running_avg = total / count\n",
    "\n",
    "def running_average(iterable):\n",
    "    avg = averager()\n",
    "    next(avg)\n",
    "    for e in iterable:\n",
    "        avg_value = avg.send(e)\n",
    "        print(avg_value)"
   ]
  },
  {
   "cell_type": "code",
   "execution_count": 8,
   "metadata": {},
   "outputs": [
    {
     "name": "stdout",
     "output_type": "stream",
     "text": [
      "1.0\n",
      "2.0\n",
      "3.0\n",
      "4.0\n",
      "5.0\n"
     ]
    }
   ],
   "source": [
    "running_average((1, 3, 5, 7, 9))"
   ]
  },
  {
   "cell_type": "markdown",
   "metadata": {},
   "source": [
    "# Sending Exceptions to  Generators"
   ]
  },
  {
   "cell_type": "markdown",
   "metadata": {},
   "source": [
    "Suppose we have a coroutine that handles writing data to a database."
   ]
  },
  {
   "cell_type": "code",
   "execution_count": 9,
   "metadata": {},
   "outputs": [],
   "source": [
    "class CommitException(Exception):\n",
    "    pass\n",
    "\n",
    "class RollbackException(Exception):\n",
    "    pass\n",
    "\n",
    "def write_to_db():\n",
    "    print('opening database connection...')\n",
    "    print('start transaction...')\n",
    "    try:\n",
    "        while True:\n",
    "            try:\n",
    "                data = yield\n",
    "                print('writing data to database...', data)\n",
    "            except CommitException:\n",
    "                print('committing transaction...')\n",
    "                print('opening next transaction...')\n",
    "            except RollbackException:\n",
    "                print('aborting transaction...')\n",
    "                print('opening next transaction...')\n",
    "    finally:\n",
    "        print('generator closing...')\n",
    "        print('aborting transaction...')\n",
    "        print('closing database connection...')"
   ]
  },
  {
   "cell_type": "code",
   "execution_count": 10,
   "metadata": {},
   "outputs": [
    {
     "name": "stdout",
     "output_type": "stream",
     "text": [
      "opening database connection...\n",
      "start transaction...\n",
      "writing data to database... 100\n",
      "committing transaction...\n",
      "opening next transaction...\n",
      "aborting transaction...\n",
      "opening next transaction...\n",
      "writing data to database... 200\n",
      "committing transaction...\n",
      "opening next transaction...\n",
      "generator closing...\n",
      "aborting transaction...\n",
      "closing database connection...\n"
     ]
    }
   ],
   "source": [
    "sql = write_to_db()\n",
    "next(sql)\n",
    "sql.send(100)\n",
    "sql.throw(CommitException)\n",
    "sql.throw(RollbackException)\n",
    "sql.send(200)\n",
    "sql.throw(CommitException)\n",
    "sql.close()"
   ]
  },
  {
   "cell_type": "markdown",
   "metadata": {},
   "source": [
    "# Using Decorators to Prime Coroutines"
   ]
  },
  {
   "cell_type": "markdown",
   "metadata": {},
   "source": [
    "We saw how we always to 'prime' a coroutine (i.e. get the generator in a suspended state) before we can start sending values to it.\n",
    "\n",
    "This is something that **must** always be done - and this is an excellent use case for decorators.\n",
    "\n",
    "We're going to create a decorator that will create and prime the coroutine for us.\n",
    "\n",
    "Essentially we want to be able to:\n",
    "1. create the coroutine (`gen()`)\n",
    "2. prime the coroutine (`next(g)`)\n",
    "\n",
    "in one step - so that's what the decorator is going to do - it will wrap our original coroutine and return a new function that will perform those steps for us, and return the newly created and primed coroutine:"
   ]
  },
  {
   "cell_type": "code",
   "execution_count": 11,
   "metadata": {},
   "outputs": [],
   "source": [
    "def coroutine(fn):\n",
    "    def inner(*args, **kwargs):\n",
    "        g = fn(*args, **kwargs)\n",
    "        next(g)\n",
    "        return g\n",
    "    return inner"
   ]
  },
  {
   "cell_type": "code",
   "execution_count": 12,
   "metadata": {},
   "outputs": [],
   "source": [
    "@coroutine\n",
    "def echo():\n",
    "    while True:\n",
    "        received = yield\n",
    "        print(received)"
   ]
  },
  {
   "cell_type": "code",
   "execution_count": 13,
   "metadata": {},
   "outputs": [
    {
     "name": "stdout",
     "output_type": "stream",
     "text": [
      "Hello\n"
     ]
    }
   ],
   "source": [
    "g = echo()\n",
    "g.send('Hello')"
   ]
  },
  {
   "cell_type": "code",
   "execution_count": 14,
   "metadata": {},
   "outputs": [
    {
     "name": "stdout",
     "output_type": "stream",
     "text": [
      "World\n"
     ]
    }
   ],
   "source": [
    "g.send('World')"
   ]
  },
  {
   "cell_type": "code",
   "execution_count": 15,
   "metadata": {},
   "outputs": [],
   "source": [
    "# Example: coroutine power up\n",
    "import math\n",
    "\n",
    "@coroutine\n",
    "def power_up(p):\n",
    "    result = None\n",
    "    while True:\n",
    "        received = yield result\n",
    "        try:\n",
    "            result = math.pow(received, p)\n",
    "        except TypeError:\n",
    "            result = None"
   ]
  },
  {
   "cell_type": "code",
   "execution_count": 16,
   "metadata": {},
   "outputs": [],
   "source": [
    "p = power_up(2)"
   ]
  },
  {
   "cell_type": "code",
   "execution_count": 17,
   "metadata": {},
   "outputs": [
    {
     "data": {
      "text/plain": [
       "25.0"
      ]
     },
     "execution_count": 17,
     "metadata": {},
     "output_type": "execute_result"
    }
   ],
   "source": [
    "p.send(5)"
   ]
  },
  {
   "cell_type": "code",
   "execution_count": 18,
   "metadata": {},
   "outputs": [
    {
     "data": {
      "text/plain": [
       "100.0"
      ]
     },
     "execution_count": 18,
     "metadata": {},
     "output_type": "execute_result"
    }
   ],
   "source": [
    "p.send(10)"
   ]
  },
  {
   "cell_type": "markdown",
   "metadata": {},
   "source": [
    "# Pipelines"
   ]
  },
  {
   "cell_type": "code",
   "execution_count": 19,
   "metadata": {},
   "outputs": [],
   "source": [
    "import csv"
   ]
  },
  {
   "cell_type": "code",
   "execution_count": 20,
   "metadata": {},
   "outputs": [],
   "source": [
    "file = '/mnt/data-ubuntu/Projects/Learning_PY_hardway/data/deep_dive/cars.csv' \n",
    "\n",
    "idx_car = 0\n",
    "idx_mpg = 1\n",
    "idx_cylinders = 2\n",
    "idx_displacement = 3\n",
    "idx_horsepower = 4\n",
    "idx_weight = 5\n",
    "idx_acceleration = 6\n",
    "idx_model = 7\n",
    "idx_origin = 8\n",
    "\n",
    "headers = ('car',\n",
    "           'mpg',\n",
    "           'cylinders',\n",
    "           'displacement',\n",
    "           'horsepower',\n",
    "           'weight',\n",
    "           'acceleration',\n",
    "           'model',\n",
    "           'origin')\n",
    "converters = (str, float, int, float, float, float, float, int, str)"
   ]
  },
  {
   "cell_type": "code",
   "execution_count": 35,
   "metadata": {},
   "outputs": [],
   "source": [
    "def data_reader(f_name):\n",
    "    \"\"\"\n",
    "    Read data from f_name.\n",
    "    \"\"\"\n",
    "    with open(f_name) as f:\n",
    "        dialect = csv.Sniffer().sniff(f.read(2000))\n",
    "        f.seek(0)\n",
    "        yield from csv.reader(f, dialect = dialect)\n",
    "\n",
    "def data_parser():\n",
    "    \"\"\"\n",
    "    Change data type accordingly.\n",
    "    \"\"\"\n",
    "    data = data_reader(file)\n",
    "    next(data)\n",
    "    for row in data:\n",
    "        row = [converter(e) for converter, e in zip(converters, row)]\n",
    "        yield row\n",
    "        \n",
    "def coroutine(fn):\n",
    "    \"\"\"\n",
    "    Coroutine decorator.\n",
    "    \"\"\"\n",
    "    def inner(*args, **kwargs):\n",
    "        gen = fn(*args, **kwargs)\n",
    "        next(gen)\n",
    "        return gen\n",
    "    return inner\n",
    "\n",
    "@coroutine\n",
    "def filter_data(fn_filter, next_coroutine):\n",
    "    \"\"\"\n",
    "    Filter data based on fn_filter and send data to next_coroutine.\n",
    "    \"\"\"\n",
    "    while True:\n",
    "        data = yield\n",
    "        if fn_filter(data):\n",
    "            next_coroutine.send(data)\n",
    "\n",
    "@coroutine\n",
    "def print_data(headers):\n",
    "    \"\"\"\n",
    "    Print the results.\n",
    "    \"\"\"\n",
    "    print(headers)\n",
    "    while True:\n",
    "        data = yield\n",
    "        print(data)\n",
    "\n",
    "\n",
    "@coroutine\n",
    "def pipline():\n",
    "    \"\"\"\n",
    "    Pipline to process the data.\n",
    "    \"\"\"\n",
    "    printer = print_data(headers)\n",
    "    \n",
    "    f1 = filter_data(lambda x: x[idx_origin] == 'Japan', printer)\n",
    "    \n",
    "    while True:\n",
    "        data = yield\n",
    "        f1.send(data)"
   ]
  },
  {
   "cell_type": "code",
   "execution_count": 36,
   "metadata": {
    "scrolled": true
   },
   "outputs": [
    {
     "name": "stdout",
     "output_type": "stream",
     "text": [
      "('car', 'mpg', 'cylinders', 'displacement', 'horsepower', 'weight', 'acceleration', 'model', 'origin')\n",
      "['Toyota Corolla Mark ii', 24.0, 4, 113.0, 95.0, 2372.0, 15.0, 70, 'Japan']\n",
      "['Datsun PL510', 27.0, 4, 97.0, 88.0, 2130.0, 14.5, 70, 'Japan']\n",
      "['Datsun PL510', 27.0, 4, 97.0, 88.0, 2130.0, 14.5, 71, 'Japan']\n",
      "['Toyota Corolla', 25.0, 4, 113.0, 95.0, 2228.0, 14.0, 71, 'Japan']\n",
      "['Toyota Corolla 1200', 31.0, 4, 71.0, 65.0, 1773.0, 19.0, 71, 'Japan']\n",
      "['Datsun 1200', 35.0, 4, 72.0, 69.0, 1613.0, 18.0, 71, 'Japan']\n",
      "['Toyota Corolla Hardtop', 24.0, 4, 113.0, 95.0, 2278.0, 15.5, 72, 'Japan']\n",
      "['Mazda RX2 Coupe', 19.0, 3, 70.0, 97.0, 2330.0, 13.5, 72, 'Japan']\n",
      "['Datsun 510 (sw)', 28.0, 4, 97.0, 92.0, 2288.0, 17.0, 72, 'Japan']\n",
      "['Toyota Corolla Mark II (sw)', 23.0, 4, 120.0, 97.0, 2506.0, 14.5, 72, 'Japan']\n",
      "['Toyota Corolla 1600 (sw)', 27.0, 4, 97.0, 88.0, 2100.0, 16.5, 72, 'Japan']\n",
      "['Toyota Camry', 20.0, 4, 97.0, 88.0, 2279.0, 19.0, 73, 'Japan']\n",
      "['Datsun 610', 22.0, 4, 108.0, 94.0, 2379.0, 16.5, 73, 'Japan']\n",
      "['Mazda RX3', 18.0, 3, 70.0, 90.0, 2124.0, 13.5, 73, 'Japan']\n",
      "['Toyota Mark II', 20.0, 6, 156.0, 122.0, 2807.0, 13.5, 73, 'Japan']\n",
      "['Datsun B210', 31.0, 4, 79.0, 67.0, 1950.0, 19.0, 74, 'Japan']\n",
      "['Toyota Corolla 1200', 32.0, 4, 71.0, 65.0, 1836.0, 21.0, 74, 'Japan']\n",
      "['Toyota Corolla', 31.0, 4, 76.0, 52.0, 1649.0, 16.5, 74, 'Japan']\n",
      "['Datsun 710', 32.0, 4, 83.0, 61.0, 2003.0, 19.0, 74, 'Japan']\n",
      "['Honda Civic', 24.0, 4, 120.0, 97.0, 2489.0, 15.0, 74, 'Japan']\n",
      "['Subaru', 26.0, 4, 108.0, 93.0, 2391.0, 15.5, 74, 'Japan']\n",
      "['Toyota Corolla', 29.0, 4, 97.0, 75.0, 2171.0, 16.0, 75, 'Japan']\n",
      "['Toyota Corolla', 24.0, 4, 134.0, 96.0, 2702.0, 13.5, 75, 'Japan']\n",
      "['Datsun 710', 24.0, 4, 119.0, 97.0, 2545.0, 17.0, 75, 'Japan']\n",
      "['Honda Civic CVCC', 33.0, 4, 91.0, 53.0, 1795.0, 17.5, 75, 'Japan']\n",
      "['Honda Civic', 33.0, 4, 91.0, 53.0, 1795.0, 17.4, 76, 'Japan']\n",
      "['Datsun B-210', 32.0, 4, 85.0, 70.0, 1990.0, 17.0, 76, 'Japan']\n",
      "['Toyota Corolla', 28.0, 4, 97.0, 75.0, 2155.0, 16.4, 76, 'Japan']\n",
      "['Toyota Mark II', 19.0, 6, 156.0, 108.0, 2930.0, 15.5, 76, 'Japan']\n",
      "['Honda Accord CVCC', 31.5, 4, 98.0, 68.0, 2045.0, 18.5, 77, 'Japan']\n",
      "['Datsun F-10 Hatchback', 33.5, 4, 85.0, 70.0, 1945.0, 16.8, 77, 'Japan']\n",
      "['Toyota Corolla Liftback', 26.0, 4, 97.0, 75.0, 2265.0, 18.2, 77, 'Japan']\n",
      "['Subaru DL', 30.0, 4, 97.0, 67.0, 1985.0, 16.4, 77, 'Japan']\n",
      "['Datsun 810', 22.0, 6, 146.0, 97.0, 2815.0, 14.5, 77, 'Japan']\n",
      "['Mazda RX-4', 21.5, 3, 80.0, 110.0, 2720.0, 13.5, 77, 'Japan']\n",
      "['Mazda GLC Deluxe', 32.8, 4, 78.0, 52.0, 1985.0, 19.4, 78, 'Japan']\n",
      "['Datsun B210 GX', 39.4, 4, 85.0, 70.0, 2070.0, 18.6, 78, 'Japan']\n",
      "['Honda Civic CVCC', 36.1, 4, 91.0, 60.0, 1800.0, 16.4, 78, 'Japan']\n",
      "['Toyota Corolla', 27.5, 4, 134.0, 95.0, 2560.0, 14.2, 78, 'Japan']\n",
      "['Datsun 510', 27.2, 4, 119.0, 97.0, 2300.0, 14.7, 78, 'Japan']\n",
      "['Toyota Celica GT Liftback', 21.1, 4, 134.0, 95.0, 2515.0, 14.8, 78, 'Japan']\n",
      "['Datsun 200-SX', 23.9, 4, 119.0, 97.0, 2405.0, 14.9, 78, 'Japan']\n",
      "['Honda Accord LX', 29.5, 4, 98.0, 68.0, 2135.0, 16.6, 78, 'Japan']\n",
      "['Mazda GLC Deluxe', 34.1, 4, 86.0, 65.0, 1975.0, 15.2, 79, 'Japan']\n",
      "['Datsun 210', 31.8, 4, 85.0, 65.0, 2020.0, 19.2, 79, 'Japan']\n",
      "['Toyota Corolla Tercel', 38.1, 4, 89.0, 60.0, 1968.0, 18.8, 80, 'Japan']\n",
      "['Datsun 310', 37.2, 4, 86.0, 65.0, 2019.0, 16.4, 80, 'Japan']\n",
      "['Toyota Corolla Liftback', 29.8, 4, 134.0, 90.0, 2711.0, 15.5, 80, 'Japan']\n",
      "['Mazda 626', 31.3, 4, 120.0, 75.0, 2542.0, 17.5, 80, 'Japan']\n",
      "['Datsun 510 Hatchback', 37.0, 4, 119.0, 92.0, 2434.0, 15.0, 80, 'Japan']\n",
      "['Toyota Corolla', 32.2, 4, 108.0, 75.0, 2265.0, 15.2, 80, 'Japan']\n",
      "['Mazda GLC', 46.6, 4, 86.0, 65.0, 2110.0, 17.9, 80, 'Japan']\n",
      "['Datsun 210', 40.8, 4, 85.0, 65.0, 2110.0, 19.2, 80, 'Japan']\n",
      "['Honda Civic 1500 gl', 44.6, 4, 91.0, 67.0, 1850.0, 13.8, 80, 'Japan']\n",
      "['Subaru DL', 33.8, 4, 97.0, 67.0, 2145.0, 18.0, 80, 'Japan']\n",
      "['Datsun 280-ZX', 32.7, 6, 168.0, 132.0, 2910.0, 11.4, 80, 'Japan']\n",
      "['Mazda RX-7 GS', 23.7, 3, 70.0, 100.0, 2420.0, 12.5, 80, 'Japan']\n",
      "['Honda Accord', 32.4, 4, 107.0, 72.0, 2290.0, 17.0, 80, 'Japan']\n",
      "['Toyota Starlet', 39.1, 4, 79.0, 58.0, 1755.0, 16.9, 81, 'Japan']\n",
      "['Honda Civic 1300', 35.1, 4, 81.0, 60.0, 1760.0, 16.1, 81, 'Japan']\n",
      "['Subaru', 32.3, 4, 97.0, 67.0, 2065.0, 17.8, 81, 'Japan']\n",
      "['Datsun 210 MPG', 37.0, 4, 85.0, 65.0, 1975.0, 19.4, 81, 'Japan']\n",
      "['Toyota Tercel', 37.7, 4, 89.0, 62.0, 2050.0, 17.3, 81, 'Japan']\n",
      "['Mazda GLC 4', 34.1, 4, 91.0, 68.0, 1985.0, 16.0, 81, 'Japan']\n",
      "['Honda Prelude', 33.7, 4, 107.0, 75.0, 2210.0, 14.4, 81, 'Japan']\n",
      "['Toyota Corolla', 32.4, 4, 108.0, 75.0, 2350.0, 16.8, 81, 'Japan']\n",
      "['Datsun 200SX', 32.9, 4, 119.0, 100.0, 2615.0, 14.8, 81, 'Japan']\n",
      "['Mazda 626', 31.6, 4, 120.0, 74.0, 2635.0, 18.3, 81, 'Japan']\n",
      "['Toyota Cressida', 25.4, 6, 168.0, 116.0, 2900.0, 12.6, 81, 'Japan']\n",
      "['Datsun 810 Maxima', 24.2, 6, 146.0, 120.0, 2930.0, 13.8, 81, 'Japan']\n",
      "['Mazda GLC Custom l', 37.0, 4, 91.0, 68.0, 2025.0, 18.2, 82, 'Japan']\n",
      "['Mazda GLC Custom', 31.0, 4, 91.0, 68.0, 1970.0, 17.6, 82, 'Japan']\n",
      "['Nissan Stanza XE', 36.0, 4, 120.0, 88.0, 2160.0, 14.5, 82, 'Japan']\n",
      "['Honda Accord', 36.0, 4, 107.0, 75.0, 2205.0, 14.5, 82, 'Japan']\n",
      "['Toyota Corolla', 34.0, 4, 108.0, 70.0, 2245.0, 16.9, 82, 'Japan']\n",
      "['Honda Civic', 38.0, 4, 91.0, 67.0, 1965.0, 15.0, 82, 'Japan']\n",
      "['Honda Civic (auto)', 32.0, 4, 91.0, 67.0, 1965.0, 15.7, 82, 'Japan']\n",
      "['Datsun 310 GX', 38.0, 4, 91.0, 67.0, 1995.0, 16.2, 82, 'Japan']\n",
      "['Toyota Celica GT', 32.0, 4, 144.0, 96.0, 2665.0, 13.9, 82, 'Japan']\n"
     ]
    }
   ],
   "source": [
    "data = data_parser()\n",
    "pip = pipline()\n",
    "for row in data:\n",
    "    pip.send(row)"
   ]
  }
 ],
 "metadata": {
  "kernelspec": {
   "display_name": "Python 3",
   "language": "python",
   "name": "python3"
  },
  "language_info": {
   "codemirror_mode": {
    "name": "ipython",
    "version": 3
   },
   "file_extension": ".py",
   "mimetype": "text/x-python",
   "name": "python",
   "nbconvert_exporter": "python",
   "pygments_lexer": "ipython3",
   "version": "3.7.6"
  },
  "toc": {
   "base_numbering": 1,
   "nav_menu": {},
   "number_sections": true,
   "sideBar": true,
   "skip_h1_title": false,
   "title_cell": "Table of Contents",
   "title_sidebar": "Contents",
   "toc_cell": false,
   "toc_position": {},
   "toc_section_display": true,
   "toc_window_display": false
  }
 },
 "nbformat": 4,
 "nbformat_minor": 4
}
