{
 "cells": [
  {
   "cell_type": "markdown",
   "metadata": {},
   "source": [
    "# Slicing Iterables"
   ]
  },
  {
   "cell_type": "code",
   "execution_count": 1,
   "metadata": {},
   "outputs": [],
   "source": [
    "from itertools import islice\n",
    "import math\n",
    "\n",
    "def factorials(n):\n",
    "    for i in range(n):\n",
    "        yield math.factorial(i)"
   ]
  },
  {
   "cell_type": "code",
   "execution_count": 5,
   "metadata": {},
   "outputs": [
    {
     "data": {
      "text/plain": [
       "[1, 1, 2, 6, 24]"
      ]
     },
     "execution_count": 5,
     "metadata": {},
     "output_type": "execute_result"
    }
   ],
   "source": [
    "list(islice(factorials(10), 0, 5))"
   ]
  },
  {
   "cell_type": "markdown",
   "metadata": {},
   "source": [
    "# Selecting and Filtering"
   ]
  },
  {
   "cell_type": "code",
   "execution_count": 3,
   "metadata": {},
   "outputs": [],
   "source": [
    "from itertools import filterfalse\n",
    "\n",
    "def is_odd(x):\n",
    "    return x % 2 == 1\n",
    "def is_even(x):\n",
    "    return x % 2 == 0\n",
    "def gen_cubes(n):\n",
    "    for i in range(n):\n",
    "        print(f'yielding {i}')\n",
    "        yield i**3"
   ]
  },
  {
   "cell_type": "code",
   "execution_count": 6,
   "metadata": {
    "scrolled": true
   },
   "outputs": [
    {
     "name": "stdout",
     "output_type": "stream",
     "text": [
      "yielding 0\n",
      "yielding 1\n",
      "yielding 2\n",
      "yielding 3\n",
      "yielding 4\n",
      "yielding 5\n",
      "yielding 6\n",
      "yielding 7\n",
      "yielding 8\n",
      "yielding 9\n"
     ]
    },
    {
     "data": {
      "text/plain": [
       "[0, 8, 64, 216, 512]"
      ]
     },
     "execution_count": 6,
     "metadata": {},
     "output_type": "execute_result"
    }
   ],
   "source": [
    "# filter and filterfalse\n",
    "list(filterfalse(is_odd, gen_cubes(10)))"
   ]
  },
  {
   "cell_type": "code",
   "execution_count": 7,
   "metadata": {
    "scrolled": true
   },
   "outputs": [
    {
     "data": {
      "text/plain": [
       "[0.0,\n",
       " 0.43,\n",
       " 0.78,\n",
       " 0.97,\n",
       " 0.97,\n",
       " 0.78,\n",
       " 0.43,\n",
       " 0.0,\n",
       " -0.43,\n",
       " -0.78,\n",
       " -0.97,\n",
       " -0.97,\n",
       " -0.78,\n",
       " -0.43,\n",
       " -0.0]"
      ]
     },
     "execution_count": 7,
     "metadata": {},
     "output_type": "execute_result"
    }
   ],
   "source": [
    "# dropwhile and takewhile\n",
    "from math import sin, pi\n",
    "\n",
    "def sine_wave(n):\n",
    "    start = 0\n",
    "    max_ = 2 * pi\n",
    "    step = (max_ - start) / (n-1)\n",
    "    for _ in range(n):\n",
    "        yield round(sin(start), 2)\n",
    "        start += step   \n",
    "        \n",
    "list(sine_wave(15))"
   ]
  },
  {
   "cell_type": "code",
   "execution_count": 10,
   "metadata": {},
   "outputs": [
    {
     "data": {
      "text/plain": [
       "[0.0, 0.43, 0.78]"
      ]
     },
     "execution_count": 10,
     "metadata": {},
     "output_type": "execute_result"
    }
   ],
   "source": [
    "from itertools import takewhile, dropwhile\n",
    "\n",
    "list(takewhile(lambda x: 0 <= x <= 0.9, sine_wave(15)))"
   ]
  },
  {
   "cell_type": "code",
   "execution_count": 11,
   "metadata": {},
   "outputs": [
    {
     "data": {
      "text/plain": [
       "[5, 2, 1]"
      ]
     },
     "execution_count": 11,
     "metadata": {},
     "output_type": "execute_result"
    }
   ],
   "source": [
    "l = [1, 3, 5, 2, 1]\n",
    "list(dropwhile(lambda x: x < 5, l))"
   ]
  },
  {
   "cell_type": "code",
   "execution_count": 12,
   "metadata": {},
   "outputs": [
    {
     "data": {
      "text/plain": [
       "['a', 'c']"
      ]
     },
     "execution_count": 12,
     "metadata": {},
     "output_type": "execute_result"
    }
   ],
   "source": [
    "# Compress function\n",
    "from itertools import compress\n",
    "data = ['a', 'b', 'c', 'd', 'e']\n",
    "selectors = [True, False, 1, 0]\n",
    "list(compress(data, selectors))"
   ]
  },
  {
   "cell_type": "markdown",
   "metadata": {},
   "source": [
    "# Infinite Iterators\n",
    "\n",
    "There are three functions in the `itertools` module that produce infinite iterators: `count`, `cycle` and `repeat`."
   ]
  },
  {
   "cell_type": "code",
   "execution_count": 13,
   "metadata": {},
   "outputs": [],
   "source": [
    "from itertools import (\n",
    "    count,\n",
    "    cycle,\n",
    "    repeat, \n",
    "    islice)"
   ]
  },
  {
   "cell_type": "code",
   "execution_count": 14,
   "metadata": {},
   "outputs": [
    {
     "data": {
      "text/plain": [
       "[10, 11, 12, 13, 14]"
      ]
     },
     "execution_count": 14,
     "metadata": {},
     "output_type": "execute_result"
    }
   ],
   "source": [
    "# count\n",
    "\n",
    "g = count(10)\n",
    "list(islice(g, 5))"
   ]
  },
  {
   "cell_type": "code",
   "execution_count": 15,
   "metadata": {},
   "outputs": [
    {
     "data": {
      "text/plain": [
       "['red', 'green', 'blue', 'red', 'green', 'blue', 'red', 'green']"
      ]
     },
     "execution_count": 15,
     "metadata": {},
     "output_type": "execute_result"
    }
   ],
   "source": [
    "# cycle\n",
    "g = cycle(('red', 'green', 'blue'))\n",
    "list(islice(g, 8))"
   ]
  },
  {
   "cell_type": "code",
   "execution_count": 16,
   "metadata": {},
   "outputs": [
    {
     "name": "stdout",
     "output_type": "stream",
     "text": [
      "Python\n",
      "Python\n",
      "Python\n",
      "Python\n",
      "Python\n"
     ]
    }
   ],
   "source": [
    "# Repeat\n",
    "\n",
    "g = repeat('Python')\n",
    "for _ in range(5):\n",
    "    print(next(g))"
   ]
  },
  {
   "cell_type": "markdown",
   "metadata": {},
   "source": [
    "# Chaining and Teeing Iterators"
   ]
  },
  {
   "cell_type": "code",
   "execution_count": 17,
   "metadata": {},
   "outputs": [
    {
     "name": "stdout",
     "output_type": "stream",
     "text": [
      "0\n",
      "1\n",
      "4\n",
      "9\n",
      "16\n",
      "25\n",
      "36\n",
      "49\n",
      "64\n",
      "81\n",
      "100\n",
      "121\n"
     ]
    }
   ],
   "source": [
    "# Chaining iterators\n",
    "from itertools import chain\n",
    "l1 = (i**2 for i in range(4))\n",
    "l2 = (i**2 for i in range(4, 8))\n",
    "l3 = (i**2 for i in range(8, 12))\n",
    "\n",
    "for item in chain(l1, l2, l3):\n",
    "    print(item)"
   ]
  },
  {
   "cell_type": "markdown",
   "metadata": {},
   "source": [
    "Sometimes we may have an iterator that we want to use multiple times for some reason.\n",
    "\n",
    "As we saw, iterators get exhausted, so simply making multiple references to the same iterator will not work - they will just point to the same iterator object.\n",
    "\n",
    "What we would really like is a way to \"copy\" an iterator and use these copies independently of each other."
   ]
  },
  {
   "cell_type": "code",
   "execution_count": 21,
   "metadata": {},
   "outputs": [
    {
     "data": {
      "text/plain": [
       "(<itertools._tee at 0x7f963c249820>,\n",
       " <itertools._tee at 0x7f963c2498c0>,\n",
       " <itertools._tee at 0x7f963c249730>)"
      ]
     },
     "execution_count": 21,
     "metadata": {},
     "output_type": "execute_result"
    }
   ],
   "source": [
    "# Teeing iterators\n",
    "from itertools import tee\n",
    "\n",
    "iters = tee(range(10), 3)\n",
    "iters"
   ]
  },
  {
   "cell_type": "markdown",
   "metadata": {},
   "source": [
    "We can see that the three iterators are three independent copies of our original iterator(range(10))."
   ]
  },
  {
   "cell_type": "markdown",
   "metadata": {},
   "source": [
    "# Mapping and Reducing"
   ]
  },
  {
   "cell_type": "markdown",
   "metadata": {},
   "source": [
    "`starmap` - it will essentially `*` each element of the iterable before passing it to the function defined in the map:"
   ]
  },
  {
   "cell_type": "code",
   "execution_count": 22,
   "metadata": {},
   "outputs": [
    {
     "data": {
      "text/plain": [
       "[0, 2, 4]"
      ]
     },
     "execution_count": 22,
     "metadata": {},
     "output_type": "execute_result"
    }
   ],
   "source": [
    "from itertools import starmap\n",
    "def add(x, y):\n",
    "    return x + y\n",
    "list(starmap(add, [(0,0), (1,1), (2,2)]))"
   ]
  },
  {
   "cell_type": "markdown",
   "metadata": {},
   "source": [
    "The `reduce` function requires a `binary` function (a function that takes two arguments). It then applies that binary function to the first two elements of the iterable, obtains a result, then continues applying the binary function using the previous result and the next item in the iterable.\n",
    "\n",
    "Optionally we can specify a seed value that is used as the 'first' element.\n",
    "\n",
    "For example, to obtain the product of all values in an iterable:"
   ]
  },
  {
   "cell_type": "code",
   "execution_count": 23,
   "metadata": {},
   "outputs": [
    {
     "data": {
      "text/plain": [
       "24"
      ]
     },
     "execution_count": 23,
     "metadata": {},
     "output_type": "execute_result"
    }
   ],
   "source": [
    "# reduce\n",
    "\n",
    "from functools import reduce\n",
    "reduce(lambda x, y: x*y, [1, 2, 3, 4])"
   ]
  }
 ],
 "metadata": {
  "kernelspec": {
   "display_name": "Python 3",
   "language": "python",
   "name": "python3"
  },
  "language_info": {
   "codemirror_mode": {
    "name": "ipython",
    "version": 3
   },
   "file_extension": ".py",
   "mimetype": "text/x-python",
   "name": "python",
   "nbconvert_exporter": "python",
   "pygments_lexer": "ipython3",
   "version": "3.7.6"
  },
  "toc": {
   "base_numbering": 1,
   "nav_menu": {},
   "number_sections": true,
   "sideBar": true,
   "skip_h1_title": false,
   "title_cell": "Table of Contents",
   "title_sidebar": "Contents",
   "toc_cell": false,
   "toc_position": {},
   "toc_section_display": true,
   "toc_window_display": false
  }
 },
 "nbformat": 4,
 "nbformat_minor": 4
}
