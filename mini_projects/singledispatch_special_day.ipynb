{
 "cells": [
  {
   "cell_type": "markdown",
   "metadata": {},
   "source": [
    "Write a function to retrieve a user defined special date based on the date given. If it's not a special day, return \"Normal day\".\n",
    "\n",
    "e.g. \n",
    "* Input: '07/23/2018'. Output: 'Our wedding day.'\n",
    "* Input: '01/06/2017'. Output: 'Normal day.'\n",
    "\n",
    "In this example, we will implement it based on **generic function** which is composed of multiple functions implementing the same operation for different types. Which implementation should be used during a call is determined by the dispatch algorithm. When the implementation is chosen based on the type of a single argument, this is known as [**single dispatch**](https://www.python.org/dev/peps/pep-0443/).\n"
   ]
  },
  {
   "cell_type": "code",
   "execution_count": 1,
   "metadata": {},
   "outputs": [],
   "source": [
    "def singledispatch(fn):\n",
    "    \"\"\"\n",
    "    A single dispatch function.\n",
    "    \"\"\"\n",
    "    registry = {}\n",
    "    registry['default'] = fn\n",
    "    \n",
    "    # Register new special date\n",
    "    def register(date_):\n",
    "        def inner(fn):\n",
    "            registry[date_] = fn\n",
    "            return fn # we do this so we can stack register decorators!\n",
    "        return inner\n",
    "    \n",
    "    def decorator(arg):\n",
    "        return registry.get(arg, registry['default'])()\n",
    "    \n",
    "    decorator.register = register\n",
    "    decorator.registry = registry\n",
    "    return decorator"
   ]
  },
  {
   "cell_type": "code",
   "execution_count": 2,
   "metadata": {},
   "outputs": [],
   "source": [
    "# Set a default.\n",
    "@singledispatch\n",
    "def special_day():\n",
    "    return 'Normal day'"
   ]
  },
  {
   "cell_type": "code",
   "execution_count": 3,
   "metadata": {},
   "outputs": [],
   "source": [
    "# If we enter a date, it will return the default.\n",
    "special_day('02/01/2018')"
   ]
  },
  {
   "cell_type": "code",
   "execution_count": 4,
   "metadata": {},
   "outputs": [],
   "source": [
    "special_day('07/23/2018')"
   ]
  },
  {
   "cell_type": "code",
   "execution_count": 5,
   "metadata": {},
   "outputs": [],
   "source": [
    "# Register a special date \n",
    "@special_day.register('07/23/2018')\n",
    "def wedding_day():\n",
    "    return 'This our wedding day.'"
   ]
  },
  {
   "cell_type": "code",
   "execution_count": 6,
   "metadata": {},
   "outputs": [],
   "source": [
    "# Now if we call the date, it became a special day.\n",
    "special_day('07/23/2018')"
   ]
  }
 ],
 "metadata": {
  "kernelspec": {
   "display_name": "Python 3",
   "language": "python",
   "name": "python3"
  },
  "language_info": {
   "codemirror_mode": {
    "name": "ipython",
    "version": 3
   },
   "file_extension": ".py",
   "mimetype": "text/x-python",
   "name": "python",
   "nbconvert_exporter": "python",
   "pygments_lexer": "ipython3",
   "version": "3.7.6"
  },
  "toc": {
   "base_numbering": 1,
   "nav_menu": {},
   "number_sections": true,
   "sideBar": true,
   "skip_h1_title": false,
   "title_cell": "Table of Contents",
   "title_sidebar": "Contents",
   "toc_cell": false,
   "toc_position": {},
   "toc_section_display": true,
   "toc_window_display": false
  }
 },
 "nbformat": 4,
 "nbformat_minor": 4
}
