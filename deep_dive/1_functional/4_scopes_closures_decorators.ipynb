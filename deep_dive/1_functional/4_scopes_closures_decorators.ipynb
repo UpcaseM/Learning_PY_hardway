{
 "cells": [
  {
   "cell_type": "markdown",
   "metadata": {},
   "source": [
    "# Global and local scopes\n",
    "\n",
    "In Python the **global** scope refers to the **module** scope.\n",
    "\n",
    "The scope of a variable is normally defined by **where** it is (lexically) defined in the code."
   ]
  },
  {
   "cell_type": "code",
   "execution_count": 1,
   "metadata": {},
   "outputs": [
    {
     "name": "stdout",
     "output_type": "stream",
     "text": [
      "global: 10\n"
     ]
    },
    {
     "data": {
      "text/plain": [
       "100000"
      ]
     },
     "execution_count": 1,
     "metadata": {},
     "output_type": "execute_result"
    }
   ],
   "source": [
    "a = 10\n",
    "def my_func(n):\n",
    "    print('global:', a)\n",
    "    c = a ** n\n",
    "    return c\n",
    "my_func(5)"
   ]
  },
  {
   "cell_type": "markdown",
   "metadata": {},
   "source": [
    "a is a global variable, and c is a local variable.\n",
    "\n",
    "The scope of a variable is determined by where it is assigned. In particular, any variable defined (i.e. assigned a value) inside a function is local to that function, even if the variable name happens to be global too!"
   ]
  },
  {
   "cell_type": "markdown",
   "metadata": {},
   "source": [
    "Remember that whenever you assign a value to a variable without having specified the variable as **global**, it is **local** in the current scope. **Moreover**, it does not matter **where** the assignment in the code takes place, the variable is considered local in the **entire** scope - Python determines the scope of objects at compile-time, not at run-time."
   ]
  },
  {
   "cell_type": "markdown",
   "metadata": {},
   "source": [
    "# Nonlocal scopes\n",
    "\n",
    "Functions defined inside anther function can reference variables from that enclosing scope, just like functions can reference variables from the global scope."
   ]
  },
  {
   "cell_type": "code",
   "execution_count": 2,
   "metadata": {},
   "outputs": [
    {
     "name": "stdout",
     "output_type": "stream",
     "text": [
      "hello\n",
      "hello\n"
     ]
    }
   ],
   "source": [
    "def outer_func():\n",
    "    x = 'hello'\n",
    "    \n",
    "    def inner_func():\n",
    "        print(x)\n",
    "    \n",
    "    inner_func()\n",
    "    print(x)\n",
    "\n",
    "outer_func()"
   ]
  },
  {
   "cell_type": "code",
   "execution_count": 3,
   "metadata": {},
   "outputs": [
    {
     "name": "stdout",
     "output_type": "stream",
     "text": [
      "good\n",
      "hello\n",
      "====nonlocal====\n",
      "good\n",
      "good\n"
     ]
    }
   ],
   "source": [
    "# The x variable in inner_func is a local variable which won't affect \n",
    "# the x in the outer_func scope.\n",
    "def outer_func():\n",
    "    x = 'hello'\n",
    "    \n",
    "    def inner_func():\n",
    "        x = 'good'\n",
    "        print(x)\n",
    "    \n",
    "    inner_func()\n",
    "    print(x)\n",
    "\n",
    "outer_func()\n",
    "\n",
    "print('====nonlocal====')\n",
    "# But we can change the x in the outer_func scope by adding nonlocal to the inner_func\n",
    "def outer_func():\n",
    "    x = 'hello'\n",
    "    \n",
    "    def inner_func():\n",
    "        nonlocal x\n",
    "        x = 'good'\n",
    "        print(x)\n",
    "    \n",
    "    inner_func()\n",
    "    print(x)\n",
    "\n",
    "outer_func()\n"
   ]
  },
  {
   "cell_type": "markdown",
   "metadata": {},
   "source": [
    "# Closures"
   ]
  },
  {
   "cell_type": "markdown",
   "metadata": {},
   "source": [
    "Closure: **A function** plus an **extended scope** that contains the free variables."
   ]
  },
  {
   "cell_type": "code",
   "execution_count": 4,
   "metadata": {},
   "outputs": [
    {
     "name": "stdout",
     "output_type": "stream",
     "text": [
      "outer x:  0x7f4dd366d170\n"
     ]
    }
   ],
   "source": [
    "# The function outer returns a closure inner\n",
    "def outer():\n",
    "    x = 'python'\n",
    "    print('outer x: ', hex(id(x)))\n",
    "    def inner():\n",
    "        print('inner x: ', hex(id(x)))\n",
    "        print(x)\n",
    "    return inner\n",
    "fn = outer()"
   ]
  },
  {
   "cell_type": "code",
   "execution_count": 5,
   "metadata": {},
   "outputs": [
    {
     "name": "stdout",
     "output_type": "stream",
     "text": [
      "inner x:  0x7f4dd366d170\n",
      "python\n"
     ]
    }
   ],
   "source": [
    "fn()"
   ]
  },
  {
   "cell_type": "code",
   "execution_count": 6,
   "metadata": {},
   "outputs": [
    {
     "data": {
      "text/plain": [
       "<function __main__.outer.<locals>.inner()>"
      ]
     },
     "execution_count": 6,
     "metadata": {},
     "output_type": "execute_result"
    }
   ],
   "source": [
    "fn"
   ]
  },
  {
   "cell_type": "code",
   "execution_count": 7,
   "metadata": {},
   "outputs": [
    {
     "data": {
      "text/plain": [
       "(<cell at 0x7f4dd0631790: str object at 0x7f4dd366d170>,)"
      ]
     },
     "execution_count": 7,
     "metadata": {},
     "output_type": "execute_result"
    }
   ],
   "source": [
    "fn.__closure__"
   ]
  },
  {
   "cell_type": "markdown",
   "metadata": {},
   "source": [
    "The closure is an reference pointing to a string object, which is the x, and the address of x in inner and outer are the same."
   ]
  },
  {
   "cell_type": "markdown",
   "metadata": {},
   "source": [
    "## Applications"
   ]
  },
  {
   "cell_type": "code",
   "execution_count": 8,
   "metadata": {},
   "outputs": [],
   "source": [
    "# An average function\n",
    "\n",
    "def average():\n",
    "    \"\"\"\n",
    "    Returns the average number as you add numbers.\n",
    "    \"\"\"\n",
    "    total = 0\n",
    "    count = 0\n",
    "    def add(n):\n",
    "        nonlocal total, count\n",
    "        total += n\n",
    "        count += 1\n",
    "        return total/count\n",
    "    return add"
   ]
  },
  {
   "cell_type": "code",
   "execution_count": 9,
   "metadata": {},
   "outputs": [],
   "source": [
    "avg = average()"
   ]
  },
  {
   "cell_type": "code",
   "execution_count": 10,
   "metadata": {},
   "outputs": [
    {
     "data": {
      "text/plain": [
       "10.0"
      ]
     },
     "execution_count": 10,
     "metadata": {},
     "output_type": "execute_result"
    }
   ],
   "source": [
    "avg(10)"
   ]
  },
  {
   "cell_type": "code",
   "execution_count": 11,
   "metadata": {},
   "outputs": [
    {
     "data": {
      "text/plain": [
       "15.0"
      ]
     },
     "execution_count": 11,
     "metadata": {},
     "output_type": "execute_result"
    }
   ],
   "source": [
    "avg(20)"
   ]
  },
  {
   "cell_type": "code",
   "execution_count": 12,
   "metadata": {},
   "outputs": [],
   "source": [
    "# A timer example\n",
    "from time import perf_counter"
   ]
  },
  {
   "cell_type": "code",
   "execution_count": 13,
   "metadata": {},
   "outputs": [],
   "source": [
    "def itmer():\n",
    "    start = perf_counter()\n",
    "    def elapsed():\n",
    "        return perf_counter() - start\n",
    "    return elapsed"
   ]
  },
  {
   "cell_type": "code",
   "execution_count": 14,
   "metadata": {},
   "outputs": [],
   "source": [
    "t = itmer()"
   ]
  },
  {
   "cell_type": "code",
   "execution_count": 15,
   "metadata": {},
   "outputs": [
    {
     "data": {
      "text/plain": [
       "0.004775549998157658"
      ]
     },
     "execution_count": 15,
     "metadata": {},
     "output_type": "execute_result"
    }
   ],
   "source": [
    "t()"
   ]
  },
  {
   "cell_type": "code",
   "execution_count": 16,
   "metadata": {},
   "outputs": [
    {
     "data": {
      "text/plain": [
       "0.010409366001113085"
      ]
     },
     "execution_count": 16,
     "metadata": {},
     "output_type": "execute_result"
    }
   ],
   "source": [
    "t()"
   ]
  },
  {
   "cell_type": "code",
   "execution_count": 17,
   "metadata": {},
   "outputs": [],
   "source": [
    "# A counter function\n",
    "def counter(init_value=0):\n",
    "    def inc(step=1):\n",
    "        nonlocal init_value\n",
    "        init_value += step\n",
    "        return init_value\n",
    "    return inc"
   ]
  },
  {
   "cell_type": "code",
   "execution_count": 18,
   "metadata": {},
   "outputs": [],
   "source": [
    "c = counter(2)"
   ]
  },
  {
   "cell_type": "code",
   "execution_count": 19,
   "metadata": {},
   "outputs": [
    {
     "name": "stdout",
     "output_type": "stream",
     "text": [
      "Running 4 times\n",
      "Running 6 times\n",
      "Running 8 times\n",
      "Running 10 times\n",
      "Running 12 times\n",
      "Running 14 times\n",
      "Running 16 times\n",
      "Running 18 times\n",
      "Running 20 times\n",
      "Running 22 times\n"
     ]
    }
   ],
   "source": [
    "for i in range(10):\n",
    "    print(f'Running {c(2)} times')"
   ]
  },
  {
   "cell_type": "code",
   "execution_count": 20,
   "metadata": {},
   "outputs": [],
   "source": [
    "# Build a function to count how many times we have run some function.\n",
    "def counter(fn):\n",
    "    count = 0\n",
    "    def inner(*args, **kwargs):\n",
    "        nonlocal count\n",
    "        count += 1\n",
    "        print(f'Running the {fn.__name__} {count} times')\n",
    "        return fn(*args, **kwargs)\n",
    "    return inner"
   ]
  },
  {
   "cell_type": "code",
   "execution_count": 21,
   "metadata": {},
   "outputs": [],
   "source": [
    "def add_(a, b):\n",
    "    return a + b"
   ]
  },
  {
   "cell_type": "code",
   "execution_count": 22,
   "metadata": {},
   "outputs": [
    {
     "name": "stdout",
     "output_type": "stream",
     "text": [
      "Running the add_ 1 times\n"
     ]
    },
    {
     "data": {
      "text/plain": [
       "11"
      ]
     },
     "execution_count": 22,
     "metadata": {},
     "output_type": "execute_result"
    }
   ],
   "source": [
    "add_ = counter(add_)\n",
    "add_(5, 6)"
   ]
  },
  {
   "cell_type": "code",
   "execution_count": 23,
   "metadata": {
    "scrolled": true
   },
   "outputs": [
    {
     "name": "stdout",
     "output_type": "stream",
     "text": [
      "Running the add_ 2 times\n"
     ]
    },
    {
     "data": {
      "text/plain": [
       "200"
      ]
     },
     "execution_count": 23,
     "metadata": {},
     "output_type": "execute_result"
    }
   ],
   "source": [
    "add_(100, 100)"
   ]
  },
  {
   "cell_type": "code",
   "execution_count": 24,
   "metadata": {},
   "outputs": [],
   "source": [
    "# Modify the counter function to record run count for whatever function we pass in.\n",
    "def counter(fn, counters):\n",
    "    count = 0\n",
    "    def inner(*args, **kwargs):\n",
    "        nonlocal count\n",
    "        count += 1\n",
    "        counters[fn.__name__] = count\n",
    "        return fn(*args, **kwargs)\n",
    "    return inner"
   ]
  },
  {
   "cell_type": "code",
   "execution_count": 25,
   "metadata": {},
   "outputs": [],
   "source": [
    "def add(a, b):\n",
    "    \"\"\"\n",
    "    Add two numbers or two strings.\n",
    "    \"\"\"\n",
    "    return a + b\n",
    "\n",
    "def mult(a, b):\n",
    "    \"\"\"\n",
    "    Multiple two numbers or a string with a number.\n",
    "    \"\"\"\n",
    "    return a * b"
   ]
  },
  {
   "cell_type": "code",
   "execution_count": 26,
   "metadata": {},
   "outputs": [],
   "source": [
    "func_counters = {}\n",
    "count_add = counter(add, func_counters)\n",
    "count_mult = counter(mult, func_counters)"
   ]
  },
  {
   "cell_type": "code",
   "execution_count": 27,
   "metadata": {},
   "outputs": [
    {
     "name": "stdout",
     "output_type": "stream",
     "text": [
      "11\n",
      "ab\n",
      "6\n",
      "aaaaa\n"
     ]
    }
   ],
   "source": [
    "print(count_add(5,6))\n",
    "print(count_add('a', 'b'))\n",
    "print(count_mult(2, 3))\n",
    "print(count_mult('a', 5))"
   ]
  },
  {
   "cell_type": "code",
   "execution_count": 28,
   "metadata": {},
   "outputs": [
    {
     "data": {
      "text/plain": [
       "{'add': 2, 'mult': 2}"
      ]
     },
     "execution_count": 28,
     "metadata": {},
     "output_type": "execute_result"
    }
   ],
   "source": [
    "func_counters"
   ]
  },
  {
   "cell_type": "markdown",
   "metadata": {},
   "source": [
    "# Decorators"
   ]
  },
  {
   "cell_type": "code",
   "execution_count": 29,
   "metadata": {},
   "outputs": [],
   "source": [
    "def counter(fn):\n",
    "    count = 0\n",
    "    \n",
    "    def inner(*args, **kwargs):\n",
    "        nonlocal count\n",
    "        count += 1\n",
    "        print('Function {0} was called {1} times'.format(fn.__name__, count))\n",
    "        return fn(*args, **kwargs)\n",
    "    return inner"
   ]
  },
  {
   "cell_type": "code",
   "execution_count": 30,
   "metadata": {},
   "outputs": [],
   "source": [
    "@counter\n",
    "def add(a, b):\n",
    "    \"\"\"\n",
    "    returns sum of two integers\n",
    "    \"\"\"\n",
    "    return a + b"
   ]
  },
  {
   "cell_type": "code",
   "execution_count": 31,
   "metadata": {},
   "outputs": [
    {
     "name": "stdout",
     "output_type": "stream",
     "text": [
      "Function add was called 1 times\n"
     ]
    },
    {
     "data": {
      "text/plain": [
       "8"
      ]
     },
     "execution_count": 31,
     "metadata": {},
     "output_type": "execute_result"
    }
   ],
   "source": [
    "add(4, 4)"
   ]
  },
  {
   "cell_type": "code",
   "execution_count": 32,
   "metadata": {},
   "outputs": [
    {
     "name": "stdout",
     "output_type": "stream",
     "text": [
      "Function add was called 2 times\n"
     ]
    },
    {
     "data": {
      "text/plain": [
       "5"
      ]
     },
     "execution_count": 32,
     "metadata": {},
     "output_type": "execute_result"
    }
   ],
   "source": [
    "add(2, 3)"
   ]
  },
  {
   "cell_type": "code",
   "execution_count": 33,
   "metadata": {},
   "outputs": [
    {
     "data": {
      "text/plain": [
       "'inner'"
      ]
     },
     "execution_count": 33,
     "metadata": {},
     "output_type": "execute_result"
    }
   ],
   "source": [
    "add.__name__"
   ]
  },
  {
   "cell_type": "markdown",
   "metadata": {},
   "source": [
    "The name of the function is no longer add, but instead it's the name of the inner function.\n",
    "\n",
    "We can use wraps to make everything back to normal."
   ]
  },
  {
   "cell_type": "code",
   "execution_count": 34,
   "metadata": {},
   "outputs": [],
   "source": [
    "from functools import wraps"
   ]
  },
  {
   "cell_type": "code",
   "execution_count": 35,
   "metadata": {},
   "outputs": [],
   "source": [
    "def counter(fn):\n",
    "    count = 0\n",
    "    \n",
    "    @wraps(fn)\n",
    "    def inner(*args, **kwargs):\n",
    "        nonlocal count\n",
    "        count += 1\n",
    "        print('Function {0} was called {1} times'.format(fn.__name__, count))\n",
    "        return fn(*args, **kwargs)\n",
    "    return inner\n",
    "\n",
    "@counter\n",
    "def add(a, b):\n",
    "    \"\"\"\n",
    "    returns sum of two integers\n",
    "    \"\"\"\n",
    "    return a + b"
   ]
  },
  {
   "cell_type": "code",
   "execution_count": 36,
   "metadata": {},
   "outputs": [
    {
     "name": "stdout",
     "output_type": "stream",
     "text": [
      "Function add was called 1 times\n"
     ]
    },
    {
     "data": {
      "text/plain": [
       "8"
      ]
     },
     "execution_count": 36,
     "metadata": {},
     "output_type": "execute_result"
    }
   ],
   "source": [
    "add(4, 4)"
   ]
  },
  {
   "cell_type": "code",
   "execution_count": 37,
   "metadata": {},
   "outputs": [
    {
     "name": "stdout",
     "output_type": "stream",
     "text": [
      "add\n",
      "\n",
      "    returns sum of two integers\n",
      "    \n"
     ]
    }
   ],
   "source": [
    "print(add.__name__)\n",
    "print(add.__doc__)"
   ]
  },
  {
   "cell_type": "code",
   "execution_count": 38,
   "metadata": {},
   "outputs": [
    {
     "name": "stdout",
     "output_type": "stream",
     "text": [
      "Help on function wraps in module functools:\n",
      "\n",
      "wraps(wrapped, assigned=('__module__', '__name__', '__qualname__', '__doc__', '__annotations__'), updated=('__dict__',))\n",
      "    Decorator factory to apply update_wrapper() to a wrapper function\n",
      "    \n",
      "    Returns a decorator that invokes update_wrapper() with the decorated\n",
      "    function as the wrapper argument and the arguments to wraps() as the\n",
      "    remaining arguments. Default arguments are as for update_wrapper().\n",
      "    This is a convenience function to simplify applying partial() to\n",
      "    update_wrapper().\n",
      "\n"
     ]
    }
   ],
   "source": [
    "help(wraps)"
   ]
  },
  {
   "cell_type": "markdown",
   "metadata": {},
   "source": [
    "## Decorator application - Timer\n",
    "\n",
    "Create a function to time how long a function takes to run a certain function."
   ]
  },
  {
   "cell_type": "code",
   "execution_count": 39,
   "metadata": {},
   "outputs": [],
   "source": [
    "def timed(fn):\n",
    "    from time import perf_counter\n",
    "    from functools import wraps\n",
    "    \n",
    "    @wraps(fn)\n",
    "    def inner(*args, **kwargs):\n",
    "        start = perf_counter()\n",
    "        result = fn(*args, **kwargs)\n",
    "        end = perf_counter()\n",
    "        elapsed = end - start\n",
    "        \n",
    "        args_ = [str(a) for a in args]\n",
    "        kwargs_ = ['{0}={1}'.format(k, v) for (k, v) in kwargs.items()]\n",
    "        all_args = args_ + kwargs_\n",
    "        args_str = ','.join(all_args)\n",
    "        print('{0}({1}) took {2:.6f}s to run.'.format(fn.__name__, args_str, elapsed))\n",
    "        return result\n",
    "    \n",
    "    return inner"
   ]
  },
  {
   "cell_type": "markdown",
   "metadata": {},
   "source": [
    "Let's write a function that calculates the n-th Fibonacci number:\n",
    "\n",
    "`1, 1, 2, 3, 5, 8, ...`\n",
    "\n",
    "We will implement this using two different methods:\n",
    "1. recursion\n",
    "2. a loop"
   ]
  },
  {
   "cell_type": "code",
   "execution_count": 40,
   "metadata": {},
   "outputs": [],
   "source": [
    "# Recursion\n",
    "def fib_rec(n):\n",
    "    if n == 0:\n",
    "        return 0\n",
    "    elif n == 1:\n",
    "        return 1\n",
    "    else:\n",
    "        return fib_rec(n-1) + fib_rec(n-2)\n",
    "    \n",
    "# Only time the recursion function with final result.\n",
    "# It prevents from printing all recursive steps.\n",
    "@timed\n",
    "def fib_recursed(n):\n",
    "    return fib_rec(n)"
   ]
  },
  {
   "cell_type": "code",
   "execution_count": 41,
   "metadata": {
    "scrolled": true
   },
   "outputs": [
    {
     "name": "stdout",
     "output_type": "stream",
     "text": [
      "fib_recursed(35) took 2.136188s to run.\n"
     ]
    },
    {
     "data": {
      "text/plain": [
       "9227465"
      ]
     },
     "execution_count": 41,
     "metadata": {},
     "output_type": "execute_result"
    }
   ],
   "source": [
    "fib_recursed(35)"
   ]
  },
  {
   "cell_type": "code",
   "execution_count": 42,
   "metadata": {},
   "outputs": [],
   "source": [
    "# Loop\n",
    "\n",
    "def fib_loop(n):\n",
    "    f0 = 0\n",
    "    f1 = 1\n",
    "    for i in range(2, n+1):\n",
    "        f0, f1 = f1, f1 + f0\n",
    "    return f1"
   ]
  },
  {
   "cell_type": "code",
   "execution_count": 43,
   "metadata": {},
   "outputs": [
    {
     "data": {
      "text/plain": [
       "55"
      ]
     },
     "execution_count": 43,
     "metadata": {},
     "output_type": "execute_result"
    }
   ],
   "source": [
    "fib_loop(10)"
   ]
  },
  {
   "cell_type": "code",
   "execution_count": 44,
   "metadata": {},
   "outputs": [],
   "source": [
    "@timed\n",
    "def fib_looped(n):\n",
    "    return fib_loop(n)"
   ]
  },
  {
   "cell_type": "code",
   "execution_count": 45,
   "metadata": {},
   "outputs": [
    {
     "name": "stdout",
     "output_type": "stream",
     "text": [
      "fib_looped(35) took 0.000007s to run.\n"
     ]
    },
    {
     "data": {
      "text/plain": [
       "9227465"
      ]
     },
     "execution_count": 45,
     "metadata": {},
     "output_type": "execute_result"
    }
   ],
   "source": [
    "fib_looped(35)"
   ]
  },
  {
   "cell_type": "markdown",
   "metadata": {},
   "source": [
    "The loop method is more faster. That's because the recursive one will re-calculate intermediate variables every time."
   ]
  },
  {
   "cell_type": "markdown",
   "metadata": {},
   "source": [
    "## Decorator application-Logger, Stacked decorators\n",
    "\n",
    " we're going to create a utility decorator that will log function calls."
   ]
  },
  {
   "cell_type": "code",
   "execution_count": 46,
   "metadata": {},
   "outputs": [],
   "source": [
    "def logger(fn):\n",
    "    from functools import wraps\n",
    "    from datetime import datetime\n",
    "    \n",
    "    @wraps(fn)\n",
    "    def inner(*args, **kwargs):\n",
    "        run_dt = datetime.now()\n",
    "        result = fn(*args, **kwargs)\n",
    "        print(f'{fn.__name__}: called {run_dt}.')\n",
    "        return result\n",
    "    return inner\n",
    "\n",
    "def timed(fn):\n",
    "    from time import perf_counter\n",
    "    from functools import wraps\n",
    "    \n",
    "    @wraps(fn)\n",
    "    def inner(*args, **kwargs):\n",
    "        start = perf_counter()\n",
    "        result = fn(*args, **kwargs)\n",
    "        end = perf_counter()\n",
    "        elapsed = end - start\n",
    "        \n",
    "        args_ = [str(a) for a in args]\n",
    "        kwargs_ = ['{0}={1}'.format(k, v) for (k, v) in kwargs.items()]\n",
    "        all_args = args_ + kwargs_\n",
    "        args_str = ','.join(all_args)\n",
    "        print('{0}({1}) took {2:.6f}s to run.'.format(fn.__name__, args_str, elapsed))\n",
    "        return result\n",
    "    \n",
    "    return inner"
   ]
  },
  {
   "cell_type": "markdown",
   "metadata": {},
   "source": [
    "Apply two decorators."
   ]
  },
  {
   "cell_type": "code",
   "execution_count": 47,
   "metadata": {},
   "outputs": [],
   "source": [
    "@logger\n",
    "@timed\n",
    "def func1():\n",
    "    pass"
   ]
  },
  {
   "cell_type": "code",
   "execution_count": 48,
   "metadata": {},
   "outputs": [
    {
     "name": "stdout",
     "output_type": "stream",
     "text": [
      "func1() took 0.000000s to run.\n",
      "func1: called 2020-05-16 15:40:00.050087.\n"
     ]
    }
   ],
   "source": [
    "func1()"
   ]
  },
  {
   "cell_type": "code",
   "execution_count": 49,
   "metadata": {},
   "outputs": [],
   "source": [
    "@timed\n",
    "@logger\n",
    "def func1():\n",
    "    pass"
   ]
  },
  {
   "cell_type": "code",
   "execution_count": 50,
   "metadata": {},
   "outputs": [
    {
     "name": "stdout",
     "output_type": "stream",
     "text": [
      "func1: called 2020-05-16 15:40:00.061265.\n",
      "func1() took 0.000086s to run.\n"
     ]
    }
   ],
   "source": [
    "func1()"
   ]
  },
  {
   "cell_type": "markdown",
   "metadata": {},
   "source": [
    "The order of the decorator may matters in practice.\n",
    "\n",
    "For example:\n",
    "    \n",
    "    If you decorated it this way:\n",
    "\n",
    "<pre>\n",
    "@log\n",
    "@authorize\n",
    "def my_endpoint():\n",
    "    pass\n",
    "</pre>\n",
    "\n",
    "then the call would always be logged.\n",
    "\n",
    "But, in this instance:\n",
    "\n",
    "<pre>\n",
    "@authorize\n",
    "@log\n",
    "def my_endpoint():\n",
    "    pass\n",
    "</pre>\n",
    "\n",
    "your endpoint would only get logged if the user passed the `authorize` test."
   ]
  },
  {
   "cell_type": "markdown",
   "metadata": {},
   "source": [
    "## Memorization\n",
    "\n",
    "In the previous fibonacci example, the running time is pretty longer if we use recursive method. \n",
    "\n",
    "When we run the recursive fibonacci, we see that it is quite inefficient, as the same Fibonacci numbers get calculated multiple times:"
   ]
  },
  {
   "cell_type": "code",
   "execution_count": 51,
   "metadata": {},
   "outputs": [],
   "source": [
    "def fib(n):\n",
    "    print(f'Calculating fib({n}).')\n",
    "    if n == 0:\n",
    "        return 0\n",
    "    elif n == 1:\n",
    "        return 1\n",
    "    else:\n",
    "        return fib(n-1) + fib(n-2)"
   ]
  },
  {
   "cell_type": "code",
   "execution_count": 52,
   "metadata": {},
   "outputs": [
    {
     "name": "stdout",
     "output_type": "stream",
     "text": [
      "Calculating fib(4).\n",
      "Calculating fib(3).\n",
      "Calculating fib(2).\n",
      "Calculating fib(1).\n",
      "Calculating fib(0).\n",
      "Calculating fib(1).\n",
      "Calculating fib(2).\n",
      "Calculating fib(1).\n",
      "Calculating fib(0).\n"
     ]
    },
    {
     "data": {
      "text/plain": [
       "3"
      ]
     },
     "execution_count": 52,
     "metadata": {},
     "output_type": "execute_result"
    }
   ],
   "source": [
    "fib(4)"
   ]
  },
  {
   "cell_type": "markdown",
   "metadata": {},
   "source": [
    "It would be better if we could store these results. If we have calculated fib(n) before, we can simply recall these values instead of recalculating them."
   ]
  },
  {
   "cell_type": "code",
   "execution_count": 53,
   "metadata": {},
   "outputs": [],
   "source": [
    "# Use a closure to achieve it.\n",
    "def fib():\n",
    "    cache = {0:0, 1:1}\n",
    "    \n",
    "    def inner(n):\n",
    "        if n in cache:\n",
    "            return cache[n]\n",
    "        print(f'Calculating fib({n})')\n",
    "        result = inner(n - 1) + inner(n - 2)\n",
    "        cache[n] = result\n",
    "        return result\n",
    "    return inner"
   ]
  },
  {
   "cell_type": "code",
   "execution_count": 54,
   "metadata": {},
   "outputs": [],
   "source": [
    "fib_func = fib()"
   ]
  },
  {
   "cell_type": "code",
   "execution_count": 55,
   "metadata": {
    "scrolled": true
   },
   "outputs": [
    {
     "name": "stdout",
     "output_type": "stream",
     "text": [
      "Calculating fib(4)\n",
      "Calculating fib(3)\n",
      "Calculating fib(2)\n"
     ]
    },
    {
     "data": {
      "text/plain": [
       "3"
      ]
     },
     "execution_count": 55,
     "metadata": {},
     "output_type": "execute_result"
    }
   ],
   "source": [
    "fib_func(4)"
   ]
  },
  {
   "cell_type": "code",
   "execution_count": 56,
   "metadata": {
    "scrolled": true
   },
   "outputs": [
    {
     "name": "stdout",
     "output_type": "stream",
     "text": [
      "Calculating fib(5)\n"
     ]
    },
    {
     "data": {
      "text/plain": [
       "5"
      ]
     },
     "execution_count": 56,
     "metadata": {},
     "output_type": "execute_result"
    }
   ],
   "source": [
    "fib_func(5)"
   ]
  },
  {
   "cell_type": "code",
   "execution_count": 57,
   "metadata": {},
   "outputs": [],
   "source": [
    "# Implement using a decorator.\n",
    "def memorize(fn):\n",
    "    cache = {}\n",
    "    \n",
    "    def inner(*args):\n",
    "        if args not in cache:\n",
    "            cache[args] = fn(*args)\n",
    "        return cache[args]\n",
    "    return inner"
   ]
  },
  {
   "cell_type": "code",
   "execution_count": 58,
   "metadata": {},
   "outputs": [],
   "source": [
    "@memorize\n",
    "def fib(n):\n",
    "    if n == 0:\n",
    "        return 0\n",
    "    elif n == 1:\n",
    "        return 1\n",
    "    else:\n",
    "        return fib(n-1) + fib(n-2)"
   ]
  },
  {
   "cell_type": "code",
   "execution_count": 59,
   "metadata": {},
   "outputs": [
    {
     "data": {
      "text/plain": [
       "12586269025"
      ]
     },
     "execution_count": 59,
     "metadata": {},
     "output_type": "execute_result"
    }
   ],
   "source": [
    "fib(50)"
   ]
  },
  {
   "cell_type": "code",
   "execution_count": 60,
   "metadata": {},
   "outputs": [
    {
     "data": {
      "text/plain": [
       "20365011074"
      ]
     },
     "execution_count": 60,
     "metadata": {},
     "output_type": "execute_result"
    }
   ],
   "source": [
    "fib(51)"
   ]
  },
  {
   "cell_type": "markdown",
   "metadata": {},
   "source": [
    "The functools module has a function lru_cache which is more efficient compared to the rudimentary memoization example we did above.\n",
    "\n",
    "LRU Cache = Least Recently Used caching: since the cache is not unlimited, at some point cached entries need to be discarded, and the least recently used entries are discarded first"
   ]
  },
  {
   "cell_type": "code",
   "execution_count": 61,
   "metadata": {},
   "outputs": [],
   "source": [
    "from functools import lru_cache\n",
    "\n",
    "@lru_cache()\n",
    "def fib(n):\n",
    "    print(f'Calculating fib({n}).')\n",
    "    if n == 0:\n",
    "        return 0\n",
    "    elif n == 1:\n",
    "        return 1\n",
    "    else:\n",
    "        return fib(n-1) + fib(n-2)"
   ]
  },
  {
   "cell_type": "code",
   "execution_count": 62,
   "metadata": {
    "scrolled": true
   },
   "outputs": [
    {
     "name": "stdout",
     "output_type": "stream",
     "text": [
      "Calculating fib(35).\n",
      "Calculating fib(34).\n",
      "Calculating fib(33).\n",
      "Calculating fib(32).\n",
      "Calculating fib(31).\n",
      "Calculating fib(30).\n",
      "Calculating fib(29).\n",
      "Calculating fib(28).\n",
      "Calculating fib(27).\n",
      "Calculating fib(26).\n",
      "Calculating fib(25).\n",
      "Calculating fib(24).\n",
      "Calculating fib(23).\n",
      "Calculating fib(22).\n",
      "Calculating fib(21).\n",
      "Calculating fib(20).\n",
      "Calculating fib(19).\n",
      "Calculating fib(18).\n",
      "Calculating fib(17).\n",
      "Calculating fib(16).\n",
      "Calculating fib(15).\n",
      "Calculating fib(14).\n",
      "Calculating fib(13).\n",
      "Calculating fib(12).\n",
      "Calculating fib(11).\n",
      "Calculating fib(10).\n",
      "Calculating fib(9).\n",
      "Calculating fib(8).\n",
      "Calculating fib(7).\n",
      "Calculating fib(6).\n",
      "Calculating fib(5).\n",
      "Calculating fib(4).\n",
      "Calculating fib(3).\n",
      "Calculating fib(2).\n",
      "Calculating fib(1).\n",
      "Calculating fib(0).\n"
     ]
    },
    {
     "data": {
      "text/plain": [
       "9227465"
      ]
     },
     "execution_count": 62,
     "metadata": {},
     "output_type": "execute_result"
    }
   ],
   "source": [
    "fib(35)"
   ]
  },
  {
   "cell_type": "code",
   "execution_count": 63,
   "metadata": {
    "scrolled": false
   },
   "outputs": [
    {
     "name": "stdout",
     "output_type": "stream",
     "text": [
      "Calculating fib(37).\n",
      "Calculating fib(36).\n"
     ]
    },
    {
     "data": {
      "text/plain": [
       "24157817"
      ]
     },
     "execution_count": 63,
     "metadata": {},
     "output_type": "execute_result"
    }
   ],
   "source": [
    "fib(37)"
   ]
  },
  {
   "cell_type": "markdown",
   "metadata": {},
   "source": [
    "## Pass variables to a decorator"
   ]
  },
  {
   "cell_type": "code",
   "execution_count": 64,
   "metadata": {},
   "outputs": [],
   "source": [
    "def timed(reps):\n",
    "    def decorator(fn):\n",
    "        @wraps(fn)\n",
    "        def inner(*args, **kwargs):\n",
    "            total_elapsed = 0\n",
    "            for i in range(reps):\n",
    "                start = perf_counter()\n",
    "                result = fn(*args, **kwargs)\n",
    "                end = perf_counter()\n",
    "                total_elapsed += (end - start)\n",
    "            avg_elapsed = total_elapsed / reps\n",
    "            print(f'The average running time is {avg_elapsed}s for {reps} reps.')\n",
    "            return result\n",
    "        return inner\n",
    "    return decorator"
   ]
  },
  {
   "cell_type": "code",
   "execution_count": 65,
   "metadata": {},
   "outputs": [],
   "source": [
    "def fib_rec(n):\n",
    "    if n == 0:\n",
    "        return 0\n",
    "    elif n == 1:\n",
    "        return 1\n",
    "    else:\n",
    "        return fib_rec(n-1) + fib_rec(n-2)"
   ]
  },
  {
   "cell_type": "code",
   "execution_count": 66,
   "metadata": {},
   "outputs": [
    {
     "name": "stdout",
     "output_type": "stream",
     "text": [
      "The average running time is 0.0016835738002555444s for 10 reps.\n"
     ]
    },
    {
     "data": {
      "text/plain": [
       "6765"
      ]
     },
     "execution_count": 66,
     "metadata": {},
     "output_type": "execute_result"
    }
   ],
   "source": [
    "@timed(10)\n",
    "def fib_recursive(n):\n",
    "    return fib_rec(n)\n",
    "fib_recursive(20)"
   ]
  },
  {
   "cell_type": "code",
   "execution_count": 67,
   "metadata": {},
   "outputs": [
    {
     "name": "stdout",
     "output_type": "stream",
     "text": [
      "The average running time is 0.0016550772001210135s for 5 reps.\n"
     ]
    },
    {
     "data": {
      "text/plain": [
       "6765"
      ]
     },
     "execution_count": 67,
     "metadata": {},
     "output_type": "execute_result"
    }
   ],
   "source": [
    "@timed(5)\n",
    "def fib_recursive(n):\n",
    "    return fib_rec(n)\n",
    "fib_recursive(20)"
   ]
  },
  {
   "cell_type": "markdown",
   "metadata": {},
   "source": [
    "## Decorator application-Decorator class"
   ]
  },
  {
   "cell_type": "code",
   "execution_count": 68,
   "metadata": {},
   "outputs": [],
   "source": [
    "class MyClass:\n",
    "    def __init__(self, a, b):\n",
    "        self.a = a\n",
    "        self.b = b\n",
    "        \n",
    "    def __call__(self, fn):\n",
    "        def inner(*args, **kwargs):\n",
    "            print(f'MyClass instance called: a={self.a}, b={self.b}.')\n",
    "            return fn(*args, **kwargs)\n",
    "        return inner"
   ]
  },
  {
   "cell_type": "code",
   "execution_count": 69,
   "metadata": {},
   "outputs": [
    {
     "name": "stdout",
     "output_type": "stream",
     "text": [
      "MyClass instance called: a=20, b=40.\n"
     ]
    },
    {
     "data": {
      "text/plain": [
       "20"
      ]
     },
     "execution_count": 69,
     "metadata": {},
     "output_type": "execute_result"
    }
   ],
   "source": [
    "@MyClass(20, 40)\n",
    "def add(a, b):\n",
    "    return a + b\n",
    "add(10, 10)"
   ]
  },
  {
   "cell_type": "markdown",
   "metadata": {},
   "source": [
    "## Decorator application: Decorating Classes"
   ]
  },
  {
   "cell_type": "code",
   "execution_count": 70,
   "metadata": {},
   "outputs": [],
   "source": [
    "def dec_speak(cls):\n",
    "    cls.speak = lambda self:'This is a test!'\n",
    "    return cls"
   ]
  },
  {
   "cell_type": "code",
   "execution_count": 71,
   "metadata": {},
   "outputs": [],
   "source": [
    "@dec_speak\n",
    "class Test:\n",
    "    def __init__(self):\n",
    "        self.len = 0"
   ]
  },
  {
   "cell_type": "code",
   "execution_count": 72,
   "metadata": {},
   "outputs": [],
   "source": [
    "t = Test()"
   ]
  },
  {
   "cell_type": "code",
   "execution_count": 73,
   "metadata": {},
   "outputs": [
    {
     "data": {
      "text/plain": [
       "'This is a test!'"
      ]
     },
     "execution_count": 73,
     "metadata": {},
     "output_type": "execute_result"
    }
   ],
   "source": [
    "t.speak()"
   ]
  },
  {
   "cell_type": "markdown",
   "metadata": {},
   "source": [
    "### A debug example"
   ]
  },
  {
   "cell_type": "code",
   "execution_count": 74,
   "metadata": {},
   "outputs": [],
   "source": [
    "from datetime import datetime\n",
    "def debug_info(cls):\n",
    "    def info(self):\n",
    "        results = []\n",
    "        results.append(f'time: {datetime.now()}')\n",
    "        results.append(f'class: {self.__class__.__name__}')\n",
    "        if self.__dict__:\n",
    "            results.extend('{}: {}'.format(k, v)  \\\n",
    "                           for k, v in self.__dict__.items())\n",
    "        return results\n",
    "    cls.debug = info\n",
    "    return cls"
   ]
  },
  {
   "cell_type": "code",
   "execution_count": 75,
   "metadata": {},
   "outputs": [],
   "source": [
    "@debug_info\n",
    "class Car:\n",
    "    def __init__(self, length, odometer=0):\n",
    "        self.len = length\n",
    "        self.odo = odometer\n",
    "    \n",
    "    def drive(self):\n",
    "        self.odo += 1"
   ]
  },
  {
   "cell_type": "code",
   "execution_count": 76,
   "metadata": {},
   "outputs": [],
   "source": [
    "c = Car(18)\n",
    "c.drive()"
   ]
  },
  {
   "cell_type": "code",
   "execution_count": 77,
   "metadata": {},
   "outputs": [
    {
     "data": {
      "text/plain": [
       "['time: 2020-05-16 15:40:00.230073', 'class: Car', 'len: 18', 'odo: 1']"
      ]
     },
     "execution_count": 77,
     "metadata": {},
     "output_type": "execute_result"
    }
   ],
   "source": [
    "c.debug()"
   ]
  },
  {
   "cell_type": "markdown",
   "metadata": {},
   "source": [
    "## Decorator application: Single Dispatch\n",
    "\n",
    "Build a function to display various data types in html format, with different presentations for integers, floats, strings, lists and tuples should be implemented using bulleted lists, and the same with dictionaries except we want the name/value pair to be displayed in the bulleted list."
   ]
  },
  {
   "cell_type": "code",
   "execution_count": 94,
   "metadata": {},
   "outputs": [],
   "source": [
    "from html import escape"
   ]
  },
  {
   "cell_type": "code",
   "execution_count": 98,
   "metadata": {},
   "outputs": [
    {
     "data": {
      "text/plain": [
       "'&amp;apple &lt;go &gt;'"
      ]
     },
     "execution_count": 98,
     "metadata": {},
     "output_type": "execute_result"
    }
   ],
   "source": [
    "# An escape example\n",
    "escape('&apple <go >')"
   ]
  },
  {
   "cell_type": "code",
   "execution_count": 154,
   "metadata": {},
   "outputs": [],
   "source": [
    "# Implement a singledispatch function\n",
    "def singledispatch(fn):\n",
    "    registry ={}\n",
    "    registry[object] = fn\n",
    "    \n",
    "    def register(type_):\n",
    "        def inner(fn):\n",
    "            registry[type_] = fn\n",
    "        return inner\n",
    "    \n",
    "    def decorator(arg):\n",
    "        result = registry.get(type(arg), registry[object])(arg)\n",
    "        return result\n",
    "    decorator.register = register\n",
    "    decorator.registry = registry\n",
    "    return decorator"
   ]
  },
  {
   "cell_type": "code",
   "execution_count": 155,
   "metadata": {},
   "outputs": [],
   "source": [
    "@singledispatch\n",
    "def htmlize(a):\n",
    "    return escape(str(a))"
   ]
  },
  {
   "cell_type": "code",
   "execution_count": 156,
   "metadata": {
    "scrolled": true
   },
   "outputs": [
    {
     "data": {
      "text/plain": [
       "'a &lt; 100'"
      ]
     },
     "execution_count": 156,
     "metadata": {},
     "output_type": "execute_result"
    }
   ],
   "source": [
    "htmlize('a < 100')"
   ]
  },
  {
   "cell_type": "code",
   "execution_count": 157,
   "metadata": {},
   "outputs": [
    {
     "data": {
      "text/plain": [
       "'50'"
      ]
     },
     "execution_count": 157,
     "metadata": {},
     "output_type": "execute_result"
    }
   ],
   "source": [
    "htmlize(50)"
   ]
  },
  {
   "cell_type": "code",
   "execution_count": 158,
   "metadata": {},
   "outputs": [],
   "source": [
    "# Add the html_int function for type int\n",
    "@htmlize.register(int)\n",
    "def html_int(a):\n",
    "    return '{0}(<i>{1}</i)'.format(a, str(hex(a)))"
   ]
  },
  {
   "cell_type": "code",
   "execution_count": 159,
   "metadata": {},
   "outputs": [
    {
     "data": {
      "text/plain": [
       "'50(<i>0x32</i)'"
      ]
     },
     "execution_count": 159,
     "metadata": {},
     "output_type": "execute_result"
    }
   ],
   "source": [
    "# Now we can render the int.\n",
    "htmlize(50)"
   ]
  },
  {
   "cell_type": "code",
   "execution_count": 161,
   "metadata": {},
   "outputs": [
    {
     "data": {
      "text/plain": [
       "{object: <function __main__.htmlize(a)>, int: <function __main__.html_int(a)>}"
      ]
     },
     "execution_count": 161,
     "metadata": {},
     "output_type": "execute_result"
    }
   ],
   "source": [
    "# And we can look at our registry to see what functions had been included.\n",
    "htmlize.registry"
   ]
  },
  {
   "cell_type": "code",
   "execution_count": 162,
   "metadata": {},
   "outputs": [],
   "source": [
    "# Use the functools module\n",
    "from functools import singledispatch\n",
    "from numbers import Integral\n",
    "from collections.abc import Sequence"
   ]
  },
  {
   "cell_type": "code",
   "execution_count": 163,
   "metadata": {},
   "outputs": [],
   "source": [
    "@singledispatch\n",
    "def htmlize(a):\n",
    "    return escape(str(a))"
   ]
  },
  {
   "cell_type": "markdown",
   "metadata": {},
   "source": [
    "The `singledispatch` returned closure has a few attributes we can use:\n",
    "1. A `register` decorator (just like ours did)\n",
    "2. A `registry` property that is the registry dictionary\n",
    "3. A `dispatch` function that can be used to determine which registry key (registered type) it will use for the specified type."
   ]
  },
  {
   "cell_type": "code",
   "execution_count": 164,
   "metadata": {},
   "outputs": [],
   "source": [
    "@htmlize.register(Integral)\n",
    "def htmlize_int(a):\n",
    "    return '{0}(<i>{1}</i)'.format(a, str(hex(a))) "
   ]
  },
  {
   "cell_type": "code",
   "execution_count": 165,
   "metadata": {},
   "outputs": [
    {
     "data": {
      "text/plain": [
       "'5(<i>0x5</i)'"
      ]
     },
     "execution_count": 165,
     "metadata": {},
     "output_type": "execute_result"
    }
   ],
   "source": [
    "htmlize(5)"
   ]
  },
  {
   "cell_type": "code",
   "execution_count": 166,
   "metadata": {},
   "outputs": [
    {
     "data": {
      "text/plain": [
       "mappingproxy({object: <function __main__.htmlize(a)>,\n",
       "              numbers.Integral: <function __main__.htmlize_int(a)>})"
      ]
     },
     "execution_count": 166,
     "metadata": {},
     "output_type": "execute_result"
    }
   ],
   "source": [
    "htmlize.registry"
   ]
  },
  {
   "cell_type": "code",
   "execution_count": 168,
   "metadata": {},
   "outputs": [
    {
     "data": {
      "text/plain": [
       "<function __main__.htmlize_int(a)>"
      ]
     },
     "execution_count": 168,
     "metadata": {},
     "output_type": "execute_result"
    }
   ],
   "source": [
    "htmlize.dispatch(int)"
   ]
  }
 ],
 "metadata": {
  "kernelspec": {
   "display_name": "Python 3",
   "language": "python",
   "name": "python3"
  },
  "language_info": {
   "codemirror_mode": {
    "name": "ipython",
    "version": 3
   },
   "file_extension": ".py",
   "mimetype": "text/x-python",
   "name": "python",
   "nbconvert_exporter": "python",
   "pygments_lexer": "ipython3",
   "version": "3.7.6"
  },
  "toc": {
   "base_numbering": 1,
   "nav_menu": {},
   "number_sections": true,
   "sideBar": true,
   "skip_h1_title": false,
   "title_cell": "Table of Contents",
   "title_sidebar": "Contents",
   "toc_cell": false,
   "toc_position": {},
   "toc_section_display": true,
   "toc_window_display": false
  }
 },
 "nbformat": 4,
 "nbformat_minor": 4
}
